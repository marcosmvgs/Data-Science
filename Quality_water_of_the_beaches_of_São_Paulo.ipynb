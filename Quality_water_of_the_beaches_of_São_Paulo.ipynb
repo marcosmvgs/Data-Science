{
  "nbformat": 4,
  "nbformat_minor": 0,
  "metadata": {
    "colab": {
      "name": "Quality water of the beaches of São Paulo",
      "provenance": [],
      "collapsed_sections": [
        "wX1fYjoVAPq0"
      ],
      "toc_visible": true,
      "authorship_tag": "ABX9TyPFksLp2U7BBCgq5qb3rWk4",
      "include_colab_link": true
    },
    "kernelspec": {
      "name": "python3",
      "display_name": "Python 3"
    }
  },
  "cells": [
    {
      "cell_type": "markdown",
      "metadata": {
        "id": "view-in-github",
        "colab_type": "text"
      },
      "source": [
        "<a href=\"https://colab.research.google.com/github/marcosmvgs/Water-quality-on-the-beaches-of-S-o-Paulo/blob/master/Quality_water_of_the_beaches_of_S%C3%A3o_Paulo.ipynb\" target=\"_parent\"><img src=\"https://colab.research.google.com/assets/colab-badge.svg\" alt=\"Open In Colab\"/></a>"
      ]
    },
    {
      "cell_type": "markdown",
      "metadata": {
        "id": "NeWnu98hwMoW",
        "colab_type": "text"
      },
      "source": [
        "# Water quality on the beachs  of the coast of São Paulo \n",
        "\n",
        "*Qualidade da Água nas praias do litoral do Estado de São Paulo*\n",
        "<center><img alt=\"beach\" width=\"90%\" src=\"https://raw.githubusercontent.com/marcosmvgs/Water-quality-on-the-beaches-of-S-o-Paulo/master/pngtree-yellow-beach-cartoon-ocean-taobao-travel-background-image_122125.jpg?token=AQNY3CALCGXFKL5ZZX74YQS7JGXO2\"/></center>\n",
        "\n",
        "**Context**\n",
        "\n",
        "One criteria that can be used to measure the water quality of the beaches is the density of Enterococcus, which indicates the fecal pollution in water. High values of the density of this bacteria indicates that the water quality is compromised and it represents risks to the bathers health. The measurements are performed weekly in several beaches in the state of São Paulo and they are used to classify the beaches as 'Proper' or 'Improper' for bathing.\n",
        "Content\n",
        "\n",
        "**About the Data**\n",
        "\n",
        "This data represents over 68k measurements of Enterococcus taken weekly between 2012 and 2020, from 16 cities and 168 beaches/collection points in the São Paulo state.\n",
        "\n",
        "The original source of the data was provided by [CETESB.!](https://cetesb.sp.gov.br/)\n",
        "\n",
        "In order to represent the statistics in a map i decided to include the coordinates of each beach in the Data as it will be seen along the notebook.\n",
        "\n",
        "**Goals** \n",
        "\n",
        "1. Check ammount of *Enterococcus* along the years and analyze if it has improved or not;\n",
        "2. Check if the vacations or holidays have some relation in the quality of the water;\n",
        "3. Plot on a map the beaches and the ammount of Enterococcus colected in each of them. \n",
        "\n",
        "\n",
        "\n"
      ]
    },
    {
      "cell_type": "markdown",
      "metadata": {
        "id": "T8ybiAmV8BHA",
        "colab_type": "text"
      },
      "source": [
        "Importing libraries\n",
        "1. Pandas\n",
        "2. Plotly.express "
      ]
    },
    {
      "cell_type": "code",
      "metadata": {
        "id": "NqnEohIhHVS5",
        "colab_type": "code",
        "colab": {}
      },
      "source": [
        "import pandas as pd\n",
        "import plotly.express as px\n"
      ],
      "execution_count": null,
      "outputs": []
    },
    {
      "cell_type": "markdown",
      "metadata": {
        "id": "bXaVUSb98ceF",
        "colab_type": "text"
      },
      "source": [
        "Reading de Data"
      ]
    },
    {
      "cell_type": "code",
      "metadata": {
        "id": "j39aJjTgJq00",
        "colab_type": "code",
        "colab": {
          "base_uri": "https://localhost:8080/",
          "height": 206
        },
        "outputId": "009ccd0b-b231-4a8f-da5b-678e8c39281f"
      },
      "source": [
        "df = pd.read_csv('/content/sp_beaches.csv', parse_dates=['Date'])\n",
        "df.head()"
      ],
      "execution_count": null,
      "outputs": [
        {
          "output_type": "execute_result",
          "data": {
            "text/html": [
              "<div>\n",
              "<style scoped>\n",
              "    .dataframe tbody tr th:only-of-type {\n",
              "        vertical-align: middle;\n",
              "    }\n",
              "\n",
              "    .dataframe tbody tr th {\n",
              "        vertical-align: top;\n",
              "    }\n",
              "\n",
              "    .dataframe thead th {\n",
              "        text-align: right;\n",
              "    }\n",
              "</style>\n",
              "<table border=\"1\" class=\"dataframe\">\n",
              "  <thead>\n",
              "    <tr style=\"text-align: right;\">\n",
              "      <th></th>\n",
              "      <th>City</th>\n",
              "      <th>Beach</th>\n",
              "      <th>Date</th>\n",
              "      <th>Enterococcus</th>\n",
              "    </tr>\n",
              "  </thead>\n",
              "  <tbody>\n",
              "    <tr>\n",
              "      <th>0</th>\n",
              "      <td>BERTIOGA</td>\n",
              "      <td>BORACÉIA - COL. MARISTA</td>\n",
              "      <td>2012-01-03</td>\n",
              "      <td>8</td>\n",
              "    </tr>\n",
              "    <tr>\n",
              "      <th>1</th>\n",
              "      <td>BERTIOGA</td>\n",
              "      <td>BORACÉIA - COL. MARISTA</td>\n",
              "      <td>2012-01-08</td>\n",
              "      <td>22</td>\n",
              "    </tr>\n",
              "    <tr>\n",
              "      <th>2</th>\n",
              "      <td>BERTIOGA</td>\n",
              "      <td>BORACÉIA - COL. MARISTA</td>\n",
              "      <td>2012-01-15</td>\n",
              "      <td>17</td>\n",
              "    </tr>\n",
              "    <tr>\n",
              "      <th>3</th>\n",
              "      <td>BERTIOGA</td>\n",
              "      <td>BORACÉIA - COL. MARISTA</td>\n",
              "      <td>2012-01-22</td>\n",
              "      <td>8</td>\n",
              "    </tr>\n",
              "    <tr>\n",
              "      <th>4</th>\n",
              "      <td>BERTIOGA</td>\n",
              "      <td>BORACÉIA - COL. MARISTA</td>\n",
              "      <td>2012-01-29</td>\n",
              "      <td>2</td>\n",
              "    </tr>\n",
              "  </tbody>\n",
              "</table>\n",
              "</div>"
            ],
            "text/plain": [
              "       City                    Beach       Date  Enterococcus\n",
              "0  BERTIOGA  BORACÉIA - COL. MARISTA 2012-01-03             8\n",
              "1  BERTIOGA  BORACÉIA - COL. MARISTA 2012-01-08            22\n",
              "2  BERTIOGA  BORACÉIA - COL. MARISTA 2012-01-15            17\n",
              "3  BERTIOGA  BORACÉIA - COL. MARISTA 2012-01-22             8\n",
              "4  BERTIOGA  BORACÉIA - COL. MARISTA 2012-01-29             2"
            ]
          },
          "metadata": {
            "tags": []
          },
          "execution_count": 16
        }
      ]
    },
    {
      "cell_type": "markdown",
      "metadata": {
        "id": "iN3Dc-FL_47S",
        "colab_type": "text"
      },
      "source": [
        "Checking the information about the Data"
      ]
    },
    {
      "cell_type": "code",
      "metadata": {
        "id": "krh05to9-hQ6",
        "colab_type": "code",
        "colab": {
          "base_uri": "https://localhost:8080/",
          "height": 220
        },
        "outputId": "add4bb01-0dac-41db-b2a3-e40785b9a3b0"
      },
      "source": [
        "df.info()"
      ],
      "execution_count": null,
      "outputs": [
        {
          "output_type": "stream",
          "text": [
            "<class 'pandas.core.frame.DataFrame'>\n",
            "RangeIndex: 68481 entries, 0 to 68480\n",
            "Data columns (total 4 columns):\n",
            " #   Column        Non-Null Count  Dtype         \n",
            "---  ------        --------------  -----         \n",
            " 0   City          68481 non-null  object        \n",
            " 1   Beach         68481 non-null  object        \n",
            " 2   Date          68481 non-null  datetime64[ns]\n",
            " 3   Enterococcus  68481 non-null  int64         \n",
            "dtypes: datetime64[ns](1), int64(1), object(2)\n",
            "memory usage: 2.1+ MB\n"
          ],
          "name": "stdout"
        }
      ]
    },
    {
      "cell_type": "markdown",
      "metadata": {
        "id": "OFrXOwZNAA49",
        "colab_type": "text"
      },
      "source": [
        "We can see above that:\n",
        "* There's no null's\n",
        "* All columns have the right Dtype, including Date column\n",
        "\n",
        "So our data is well organized"
      ]
    },
    {
      "cell_type": "markdown",
      "metadata": {
        "id": "wX1fYjoVAPq0",
        "colab_type": "text"
      },
      "source": [
        "## 1st Goal\n",
        "\n",
        "- [ ] Check ammount of *Enterococcus* along the years and analyze if it has improved or not\n",
        "\n",
        "First of all, let's check the last Date and the first Date in order to verify if we have measures of all year long.\n",
        "\n"
      ]
    },
    {
      "cell_type": "code",
      "metadata": {
        "id": "mVII-JH2GvZN",
        "colab_type": "code",
        "colab": {
          "base_uri": "https://localhost:8080/",
          "height": 35
        },
        "outputId": "385f9296-07aa-476a-dba5-54ba5245d7cf"
      },
      "source": [
        "df['Date'].min()"
      ],
      "execution_count": null,
      "outputs": [
        {
          "output_type": "execute_result",
          "data": {
            "text/plain": [
              "Timestamp('2012-01-03 00:00:00')"
            ]
          },
          "metadata": {
            "tags": []
          },
          "execution_count": 18
        }
      ]
    },
    {
      "cell_type": "code",
      "metadata": {
        "id": "4t5zxnEiG5NL",
        "colab_type": "code",
        "colab": {
          "base_uri": "https://localhost:8080/",
          "height": 35
        },
        "outputId": "00f81ebb-dbcd-4916-c399-219db55f40f0"
      },
      "source": [
        "df['Date'].max()"
      ],
      "execution_count": null,
      "outputs": [
        {
          "output_type": "execute_result",
          "data": {
            "text/plain": [
              "Timestamp('2020-03-15 00:00:00')"
            ]
          },
          "metadata": {
            "tags": []
          },
          "execution_count": 19
        }
      ]
    },
    {
      "cell_type": "markdown",
      "metadata": {
        "id": "T1KfnY8caLB_",
        "colab_type": "text"
      },
      "source": [
        "As we don't have data for all 2020 year. We will exclude this year of our data and will analyze from 2012 until 2019. We also will remove Columns `<City>` and `<'Beach'>` because they're not interesting for us now. "
      ]
    },
    {
      "cell_type": "code",
      "metadata": {
        "id": "GofUWCbiDp4U",
        "colab_type": "code",
        "colab": {
          "base_uri": "https://localhost:8080/",
          "height": 206
        },
        "outputId": "7239c465-6939-4486-9a35-ebbc35509047"
      },
      "source": [
        "years = df.loc[:, 'Date':'Enterococcus'] #Selecting Date and Enterococcus columns\n",
        "years.head()"
      ],
      "execution_count": null,
      "outputs": [
        {
          "output_type": "execute_result",
          "data": {
            "text/html": [
              "<div>\n",
              "<style scoped>\n",
              "    .dataframe tbody tr th:only-of-type {\n",
              "        vertical-align: middle;\n",
              "    }\n",
              "\n",
              "    .dataframe tbody tr th {\n",
              "        vertical-align: top;\n",
              "    }\n",
              "\n",
              "    .dataframe thead th {\n",
              "        text-align: right;\n",
              "    }\n",
              "</style>\n",
              "<table border=\"1\" class=\"dataframe\">\n",
              "  <thead>\n",
              "    <tr style=\"text-align: right;\">\n",
              "      <th></th>\n",
              "      <th>Date</th>\n",
              "      <th>Enterococcus</th>\n",
              "    </tr>\n",
              "  </thead>\n",
              "  <tbody>\n",
              "    <tr>\n",
              "      <th>0</th>\n",
              "      <td>2012-01-03</td>\n",
              "      <td>8</td>\n",
              "    </tr>\n",
              "    <tr>\n",
              "      <th>1</th>\n",
              "      <td>2012-01-08</td>\n",
              "      <td>22</td>\n",
              "    </tr>\n",
              "    <tr>\n",
              "      <th>2</th>\n",
              "      <td>2012-01-15</td>\n",
              "      <td>17</td>\n",
              "    </tr>\n",
              "    <tr>\n",
              "      <th>3</th>\n",
              "      <td>2012-01-22</td>\n",
              "      <td>8</td>\n",
              "    </tr>\n",
              "    <tr>\n",
              "      <th>4</th>\n",
              "      <td>2012-01-29</td>\n",
              "      <td>2</td>\n",
              "    </tr>\n",
              "  </tbody>\n",
              "</table>\n",
              "</div>"
            ],
            "text/plain": [
              "        Date  Enterococcus\n",
              "0 2012-01-03             8\n",
              "1 2012-01-08            22\n",
              "2 2012-01-15            17\n",
              "3 2012-01-22             8\n",
              "4 2012-01-29             2"
            ]
          },
          "metadata": {
            "tags": []
          },
          "execution_count": 20
        }
      ]
    },
    {
      "cell_type": "markdown",
      "metadata": {
        "id": "ntI0Xpmwa_m9",
        "colab_type": "text"
      },
      "source": [
        "Once the days and months doesn't interest for us now it's necessary to group the data by year. In the following code I grouped the data by year showing the mean of Enterococcus in each year, transformed the data in Dataframe (it was a Series before) and reseted index. As follows:"
      ]
    },
    {
      "cell_type": "code",
      "metadata": {
        "id": "zfBa2vcuETeU",
        "colab_type": "code",
        "colab": {
          "base_uri": "https://localhost:8080/",
          "height": 332
        },
        "outputId": "e2fdc4e7-586b-47b7-a0bb-e09a59798760"
      },
      "source": [
        "years = years.groupby(df['Date'].dt.year)['Enterococcus'].mean().to_frame().reset_index() \n",
        "years"
      ],
      "execution_count": null,
      "outputs": [
        {
          "output_type": "execute_result",
          "data": {
            "text/html": [
              "<div>\n",
              "<style scoped>\n",
              "    .dataframe tbody tr th:only-of-type {\n",
              "        vertical-align: middle;\n",
              "    }\n",
              "\n",
              "    .dataframe tbody tr th {\n",
              "        vertical-align: top;\n",
              "    }\n",
              "\n",
              "    .dataframe thead th {\n",
              "        text-align: right;\n",
              "    }\n",
              "</style>\n",
              "<table border=\"1\" class=\"dataframe\">\n",
              "  <thead>\n",
              "    <tr style=\"text-align: right;\">\n",
              "      <th></th>\n",
              "      <th>Date</th>\n",
              "      <th>Enterococcus</th>\n",
              "    </tr>\n",
              "  </thead>\n",
              "  <tbody>\n",
              "    <tr>\n",
              "      <th>0</th>\n",
              "      <td>2012</td>\n",
              "      <td>62.251473</td>\n",
              "    </tr>\n",
              "    <tr>\n",
              "      <th>1</th>\n",
              "      <td>2013</td>\n",
              "      <td>78.583716</td>\n",
              "    </tr>\n",
              "    <tr>\n",
              "      <th>2</th>\n",
              "      <td>2014</td>\n",
              "      <td>63.626992</td>\n",
              "    </tr>\n",
              "    <tr>\n",
              "      <th>3</th>\n",
              "      <td>2015</td>\n",
              "      <td>52.185566</td>\n",
              "    </tr>\n",
              "    <tr>\n",
              "      <th>4</th>\n",
              "      <td>2016</td>\n",
              "      <td>45.088246</td>\n",
              "    </tr>\n",
              "    <tr>\n",
              "      <th>5</th>\n",
              "      <td>2017</td>\n",
              "      <td>47.187976</td>\n",
              "    </tr>\n",
              "    <tr>\n",
              "      <th>6</th>\n",
              "      <td>2018</td>\n",
              "      <td>61.265351</td>\n",
              "    </tr>\n",
              "    <tr>\n",
              "      <th>7</th>\n",
              "      <td>2019</td>\n",
              "      <td>60.802781</td>\n",
              "    </tr>\n",
              "    <tr>\n",
              "      <th>8</th>\n",
              "      <td>2020</td>\n",
              "      <td>84.797149</td>\n",
              "    </tr>\n",
              "  </tbody>\n",
              "</table>\n",
              "</div>"
            ],
            "text/plain": [
              "   Date  Enterococcus\n",
              "0  2012     62.251473\n",
              "1  2013     78.583716\n",
              "2  2014     63.626992\n",
              "3  2015     52.185566\n",
              "4  2016     45.088246\n",
              "5  2017     47.187976\n",
              "6  2018     61.265351\n",
              "7  2019     60.802781\n",
              "8  2020     84.797149"
            ]
          },
          "metadata": {
            "tags": []
          },
          "execution_count": 21
        }
      ]
    },
    {
      "cell_type": "markdown",
      "metadata": {
        "id": "-4D1MheTbvqm",
        "colab_type": "text"
      },
      "source": [
        "Now it's easy to select just the rows that are interesting for the analysis. "
      ]
    },
    {
      "cell_type": "code",
      "metadata": {
        "id": "Lv4YjBcEXigD",
        "colab_type": "code",
        "colab": {
          "base_uri": "https://localhost:8080/",
          "height": 300
        },
        "outputId": "7a82176d-13cf-4fca-aeba-5b4c52d7b53c"
      },
      "source": [
        "years = years.iloc[0:8, 0:3] #Selecting lines 0 to 7 in order to exclude 2020\n",
        "years"
      ],
      "execution_count": null,
      "outputs": [
        {
          "output_type": "execute_result",
          "data": {
            "text/html": [
              "<div>\n",
              "<style scoped>\n",
              "    .dataframe tbody tr th:only-of-type {\n",
              "        vertical-align: middle;\n",
              "    }\n",
              "\n",
              "    .dataframe tbody tr th {\n",
              "        vertical-align: top;\n",
              "    }\n",
              "\n",
              "    .dataframe thead th {\n",
              "        text-align: right;\n",
              "    }\n",
              "</style>\n",
              "<table border=\"1\" class=\"dataframe\">\n",
              "  <thead>\n",
              "    <tr style=\"text-align: right;\">\n",
              "      <th></th>\n",
              "      <th>Date</th>\n",
              "      <th>Enterococcus</th>\n",
              "    </tr>\n",
              "  </thead>\n",
              "  <tbody>\n",
              "    <tr>\n",
              "      <th>0</th>\n",
              "      <td>2012</td>\n",
              "      <td>62.251473</td>\n",
              "    </tr>\n",
              "    <tr>\n",
              "      <th>1</th>\n",
              "      <td>2013</td>\n",
              "      <td>78.583716</td>\n",
              "    </tr>\n",
              "    <tr>\n",
              "      <th>2</th>\n",
              "      <td>2014</td>\n",
              "      <td>63.626992</td>\n",
              "    </tr>\n",
              "    <tr>\n",
              "      <th>3</th>\n",
              "      <td>2015</td>\n",
              "      <td>52.185566</td>\n",
              "    </tr>\n",
              "    <tr>\n",
              "      <th>4</th>\n",
              "      <td>2016</td>\n",
              "      <td>45.088246</td>\n",
              "    </tr>\n",
              "    <tr>\n",
              "      <th>5</th>\n",
              "      <td>2017</td>\n",
              "      <td>47.187976</td>\n",
              "    </tr>\n",
              "    <tr>\n",
              "      <th>6</th>\n",
              "      <td>2018</td>\n",
              "      <td>61.265351</td>\n",
              "    </tr>\n",
              "    <tr>\n",
              "      <th>7</th>\n",
              "      <td>2019</td>\n",
              "      <td>60.802781</td>\n",
              "    </tr>\n",
              "  </tbody>\n",
              "</table>\n",
              "</div>"
            ],
            "text/plain": [
              "   Date  Enterococcus\n",
              "0  2012     62.251473\n",
              "1  2013     78.583716\n",
              "2  2014     63.626992\n",
              "3  2015     52.185566\n",
              "4  2016     45.088246\n",
              "5  2017     47.187976\n",
              "6  2018     61.265351\n",
              "7  2019     60.802781"
            ]
          },
          "metadata": {
            "tags": []
          },
          "execution_count": 22
        }
      ]
    },
    {
      "cell_type": "markdown",
      "metadata": {
        "id": "f4aI2oSVb9Pi",
        "colab_type": "text"
      },
      "source": [
        "**Ploting the data**\n",
        "\n",
        "Now with our data organized it's easy to plot the graph"
      ]
    },
    {
      "cell_type": "code",
      "metadata": {
        "id": "yNdaAvQuX7hb",
        "colab_type": "code",
        "colab": {
          "base_uri": "https://localhost:8080/",
          "height": 560
        },
        "outputId": "cd9a3ea5-42b1-4595-cb8a-02bfe17e4ca1"
      },
      "source": [
        "fig1 = px.bar(years, x='Date', y='Enterococcus', color='Enterococcus',\n",
        "              title='Year vs Enterococcus mean per year', color_continuous_scale= px.colors.sequential.Viridis_r)\n",
        "print(fig1.show())"
      ],
      "execution_count": null,
      "outputs": [
        {
          "output_type": "display_data",
          "data": {
            "text/html": [
              "<html>\n",
              "<head><meta charset=\"utf-8\" /></head>\n",
              "<body>\n",
              "    <div>\n",
              "            <script src=\"https://cdnjs.cloudflare.com/ajax/libs/mathjax/2.7.5/MathJax.js?config=TeX-AMS-MML_SVG\"></script><script type=\"text/javascript\">if (window.MathJax) {MathJax.Hub.Config({SVG: {font: \"STIX-Web\"}});}</script>\n",
              "                <script type=\"text/javascript\">window.PlotlyConfig = {MathJaxConfig: 'local'};</script>\n",
              "        <script src=\"https://cdn.plot.ly/plotly-latest.min.js\"></script>    \n",
              "            <div id=\"7da24fae-66e5-4664-803e-cb66f7eda37f\" class=\"plotly-graph-div\" style=\"height:525px; width:100%;\"></div>\n",
              "            <script type=\"text/javascript\">\n",
              "                \n",
              "                    window.PLOTLYENV=window.PLOTLYENV || {};\n",
              "                    \n",
              "                if (document.getElementById(\"7da24fae-66e5-4664-803e-cb66f7eda37f\")) {\n",
              "                    Plotly.newPlot(\n",
              "                        '7da24fae-66e5-4664-803e-cb66f7eda37f',\n",
              "                        [{\"alignmentgroup\": \"True\", \"hoverlabel\": {\"namelength\": 0}, \"hovertemplate\": \"Date=%{x}<br>Enterococcus=%{marker.color}\", \"legendgroup\": \"\", \"marker\": {\"color\": [62.25147324113049, 78.58371607515657, 63.62699203187251, 52.18556580637627, 45.08824559355667, 47.187975906352996, 61.265351389213166, 60.80278099652375], \"coloraxis\": \"coloraxis\"}, \"name\": \"\", \"offsetgroup\": \"\", \"orientation\": \"v\", \"showlegend\": false, \"textposition\": \"auto\", \"type\": \"bar\", \"x\": [2012, 2013, 2014, 2015, 2016, 2017, 2018, 2019], \"xaxis\": \"x\", \"y\": [62.25147324113049, 78.58371607515657, 63.62699203187251, 52.18556580637627, 45.08824559355667, 47.187975906352996, 61.265351389213166, 60.80278099652375], \"yaxis\": \"y\"}],\n",
              "                        {\"barmode\": \"relative\", \"coloraxis\": {\"colorbar\": {\"title\": {\"text\": \"Enterococcus\"}}, \"colorscale\": [[0.0, \"#fde725\"], [0.1111111111111111, \"#b5de2b\"], [0.2222222222222222, \"#6ece58\"], [0.3333333333333333, \"#35b779\"], [0.4444444444444444, \"#1f9e89\"], [0.5555555555555556, \"#26828e\"], [0.6666666666666666, \"#31688e\"], [0.7777777777777778, \"#3e4989\"], [0.8888888888888888, \"#482878\"], [1.0, \"#440154\"]]}, \"legend\": {\"tracegroupgap\": 0}, \"template\": {\"data\": {\"bar\": [{\"error_x\": {\"color\": \"#2a3f5f\"}, \"error_y\": {\"color\": \"#2a3f5f\"}, \"marker\": {\"line\": {\"color\": \"#E5ECF6\", \"width\": 0.5}}, \"type\": \"bar\"}], \"barpolar\": [{\"marker\": {\"line\": {\"color\": \"#E5ECF6\", \"width\": 0.5}}, \"type\": \"barpolar\"}], \"carpet\": [{\"aaxis\": {\"endlinecolor\": \"#2a3f5f\", \"gridcolor\": \"white\", \"linecolor\": \"white\", \"minorgridcolor\": \"white\", \"startlinecolor\": \"#2a3f5f\"}, \"baxis\": {\"endlinecolor\": \"#2a3f5f\", \"gridcolor\": \"white\", \"linecolor\": \"white\", \"minorgridcolor\": \"white\", \"startlinecolor\": \"#2a3f5f\"}, \"type\": \"carpet\"}], \"choropleth\": [{\"colorbar\": {\"outlinewidth\": 0, \"ticks\": \"\"}, \"type\": \"choropleth\"}], \"contour\": [{\"colorbar\": {\"outlinewidth\": 0, \"ticks\": \"\"}, \"colorscale\": [[0.0, \"#0d0887\"], [0.1111111111111111, \"#46039f\"], [0.2222222222222222, \"#7201a8\"], [0.3333333333333333, \"#9c179e\"], [0.4444444444444444, \"#bd3786\"], [0.5555555555555556, \"#d8576b\"], [0.6666666666666666, \"#ed7953\"], [0.7777777777777778, \"#fb9f3a\"], [0.8888888888888888, \"#fdca26\"], [1.0, \"#f0f921\"]], \"type\": \"contour\"}], \"contourcarpet\": [{\"colorbar\": {\"outlinewidth\": 0, \"ticks\": \"\"}, \"type\": \"contourcarpet\"}], \"heatmap\": [{\"colorbar\": {\"outlinewidth\": 0, \"ticks\": \"\"}, \"colorscale\": [[0.0, \"#0d0887\"], [0.1111111111111111, \"#46039f\"], [0.2222222222222222, \"#7201a8\"], [0.3333333333333333, \"#9c179e\"], [0.4444444444444444, \"#bd3786\"], [0.5555555555555556, \"#d8576b\"], [0.6666666666666666, \"#ed7953\"], [0.7777777777777778, \"#fb9f3a\"], [0.8888888888888888, \"#fdca26\"], [1.0, \"#f0f921\"]], \"type\": \"heatmap\"}], \"heatmapgl\": [{\"colorbar\": {\"outlinewidth\": 0, \"ticks\": \"\"}, \"colorscale\": [[0.0, \"#0d0887\"], [0.1111111111111111, \"#46039f\"], [0.2222222222222222, \"#7201a8\"], [0.3333333333333333, \"#9c179e\"], [0.4444444444444444, \"#bd3786\"], [0.5555555555555556, \"#d8576b\"], [0.6666666666666666, \"#ed7953\"], [0.7777777777777778, \"#fb9f3a\"], [0.8888888888888888, \"#fdca26\"], [1.0, \"#f0f921\"]], \"type\": \"heatmapgl\"}], \"histogram\": [{\"marker\": {\"colorbar\": {\"outlinewidth\": 0, \"ticks\": \"\"}}, \"type\": \"histogram\"}], \"histogram2d\": [{\"colorbar\": {\"outlinewidth\": 0, \"ticks\": \"\"}, \"colorscale\": [[0.0, \"#0d0887\"], [0.1111111111111111, \"#46039f\"], [0.2222222222222222, \"#7201a8\"], [0.3333333333333333, \"#9c179e\"], [0.4444444444444444, \"#bd3786\"], [0.5555555555555556, \"#d8576b\"], [0.6666666666666666, \"#ed7953\"], [0.7777777777777778, \"#fb9f3a\"], [0.8888888888888888, \"#fdca26\"], [1.0, \"#f0f921\"]], \"type\": \"histogram2d\"}], \"histogram2dcontour\": [{\"colorbar\": {\"outlinewidth\": 0, \"ticks\": \"\"}, \"colorscale\": [[0.0, \"#0d0887\"], [0.1111111111111111, \"#46039f\"], [0.2222222222222222, \"#7201a8\"], [0.3333333333333333, \"#9c179e\"], [0.4444444444444444, \"#bd3786\"], [0.5555555555555556, \"#d8576b\"], [0.6666666666666666, \"#ed7953\"], [0.7777777777777778, \"#fb9f3a\"], [0.8888888888888888, \"#fdca26\"], [1.0, \"#f0f921\"]], \"type\": \"histogram2dcontour\"}], \"mesh3d\": [{\"colorbar\": {\"outlinewidth\": 0, \"ticks\": \"\"}, \"type\": \"mesh3d\"}], \"parcoords\": [{\"line\": {\"colorbar\": {\"outlinewidth\": 0, \"ticks\": \"\"}}, \"type\": \"parcoords\"}], \"pie\": [{\"automargin\": true, \"type\": \"pie\"}], \"scatter\": [{\"marker\": {\"colorbar\": {\"outlinewidth\": 0, \"ticks\": \"\"}}, \"type\": \"scatter\"}], \"scatter3d\": [{\"line\": {\"colorbar\": {\"outlinewidth\": 0, \"ticks\": \"\"}}, \"marker\": {\"colorbar\": {\"outlinewidth\": 0, \"ticks\": \"\"}}, \"type\": \"scatter3d\"}], \"scattercarpet\": [{\"marker\": {\"colorbar\": {\"outlinewidth\": 0, \"ticks\": \"\"}}, \"type\": \"scattercarpet\"}], \"scattergeo\": [{\"marker\": {\"colorbar\": {\"outlinewidth\": 0, \"ticks\": \"\"}}, \"type\": \"scattergeo\"}], \"scattergl\": [{\"marker\": {\"colorbar\": {\"outlinewidth\": 0, \"ticks\": \"\"}}, \"type\": \"scattergl\"}], \"scattermapbox\": [{\"marker\": {\"colorbar\": {\"outlinewidth\": 0, \"ticks\": \"\"}}, \"type\": \"scattermapbox\"}], \"scatterpolar\": [{\"marker\": {\"colorbar\": {\"outlinewidth\": 0, \"ticks\": \"\"}}, \"type\": \"scatterpolar\"}], \"scatterpolargl\": [{\"marker\": {\"colorbar\": {\"outlinewidth\": 0, \"ticks\": \"\"}}, \"type\": \"scatterpolargl\"}], \"scatterternary\": [{\"marker\": {\"colorbar\": {\"outlinewidth\": 0, \"ticks\": \"\"}}, \"type\": \"scatterternary\"}], \"surface\": [{\"colorbar\": {\"outlinewidth\": 0, \"ticks\": \"\"}, \"colorscale\": [[0.0, \"#0d0887\"], [0.1111111111111111, \"#46039f\"], [0.2222222222222222, \"#7201a8\"], [0.3333333333333333, \"#9c179e\"], [0.4444444444444444, \"#bd3786\"], [0.5555555555555556, \"#d8576b\"], [0.6666666666666666, \"#ed7953\"], [0.7777777777777778, \"#fb9f3a\"], [0.8888888888888888, \"#fdca26\"], [1.0, \"#f0f921\"]], \"type\": \"surface\"}], \"table\": [{\"cells\": {\"fill\": {\"color\": \"#EBF0F8\"}, \"line\": {\"color\": \"white\"}}, \"header\": {\"fill\": {\"color\": \"#C8D4E3\"}, \"line\": {\"color\": \"white\"}}, \"type\": \"table\"}]}, \"layout\": {\"annotationdefaults\": {\"arrowcolor\": \"#2a3f5f\", \"arrowhead\": 0, \"arrowwidth\": 1}, \"coloraxis\": {\"colorbar\": {\"outlinewidth\": 0, \"ticks\": \"\"}}, \"colorscale\": {\"diverging\": [[0, \"#8e0152\"], [0.1, \"#c51b7d\"], [0.2, \"#de77ae\"], [0.3, \"#f1b6da\"], [0.4, \"#fde0ef\"], [0.5, \"#f7f7f7\"], [0.6, \"#e6f5d0\"], [0.7, \"#b8e186\"], [0.8, \"#7fbc41\"], [0.9, \"#4d9221\"], [1, \"#276419\"]], \"sequential\": [[0.0, \"#0d0887\"], [0.1111111111111111, \"#46039f\"], [0.2222222222222222, \"#7201a8\"], [0.3333333333333333, \"#9c179e\"], [0.4444444444444444, \"#bd3786\"], [0.5555555555555556, \"#d8576b\"], [0.6666666666666666, \"#ed7953\"], [0.7777777777777778, \"#fb9f3a\"], [0.8888888888888888, \"#fdca26\"], [1.0, \"#f0f921\"]], \"sequentialminus\": [[0.0, \"#0d0887\"], [0.1111111111111111, \"#46039f\"], [0.2222222222222222, \"#7201a8\"], [0.3333333333333333, \"#9c179e\"], [0.4444444444444444, \"#bd3786\"], [0.5555555555555556, \"#d8576b\"], [0.6666666666666666, \"#ed7953\"], [0.7777777777777778, \"#fb9f3a\"], [0.8888888888888888, \"#fdca26\"], [1.0, \"#f0f921\"]]}, \"colorway\": [\"#636efa\", \"#EF553B\", \"#00cc96\", \"#ab63fa\", \"#FFA15A\", \"#19d3f3\", \"#FF6692\", \"#B6E880\", \"#FF97FF\", \"#FECB52\"], \"font\": {\"color\": \"#2a3f5f\"}, \"geo\": {\"bgcolor\": \"white\", \"lakecolor\": \"white\", \"landcolor\": \"#E5ECF6\", \"showlakes\": true, \"showland\": true, \"subunitcolor\": \"white\"}, \"hoverlabel\": {\"align\": \"left\"}, \"hovermode\": \"closest\", \"mapbox\": {\"style\": \"light\"}, \"paper_bgcolor\": \"white\", \"plot_bgcolor\": \"#E5ECF6\", \"polar\": {\"angularaxis\": {\"gridcolor\": \"white\", \"linecolor\": \"white\", \"ticks\": \"\"}, \"bgcolor\": \"#E5ECF6\", \"radialaxis\": {\"gridcolor\": \"white\", \"linecolor\": \"white\", \"ticks\": \"\"}}, \"scene\": {\"xaxis\": {\"backgroundcolor\": \"#E5ECF6\", \"gridcolor\": \"white\", \"gridwidth\": 2, \"linecolor\": \"white\", \"showbackground\": true, \"ticks\": \"\", \"zerolinecolor\": \"white\"}, \"yaxis\": {\"backgroundcolor\": \"#E5ECF6\", \"gridcolor\": \"white\", \"gridwidth\": 2, \"linecolor\": \"white\", \"showbackground\": true, \"ticks\": \"\", \"zerolinecolor\": \"white\"}, \"zaxis\": {\"backgroundcolor\": \"#E5ECF6\", \"gridcolor\": \"white\", \"gridwidth\": 2, \"linecolor\": \"white\", \"showbackground\": true, \"ticks\": \"\", \"zerolinecolor\": \"white\"}}, \"shapedefaults\": {\"line\": {\"color\": \"#2a3f5f\"}}, \"ternary\": {\"aaxis\": {\"gridcolor\": \"white\", \"linecolor\": \"white\", \"ticks\": \"\"}, \"baxis\": {\"gridcolor\": \"white\", \"linecolor\": \"white\", \"ticks\": \"\"}, \"bgcolor\": \"#E5ECF6\", \"caxis\": {\"gridcolor\": \"white\", \"linecolor\": \"white\", \"ticks\": \"\"}}, \"title\": {\"x\": 0.05}, \"xaxis\": {\"automargin\": true, \"gridcolor\": \"white\", \"linecolor\": \"white\", \"ticks\": \"\", \"title\": {\"standoff\": 15}, \"zerolinecolor\": \"white\", \"zerolinewidth\": 2}, \"yaxis\": {\"automargin\": true, \"gridcolor\": \"white\", \"linecolor\": \"white\", \"ticks\": \"\", \"title\": {\"standoff\": 15}, \"zerolinecolor\": \"white\", \"zerolinewidth\": 2}}}, \"title\": {\"text\": \"Year vs Enterococcus mean per year\"}, \"xaxis\": {\"anchor\": \"y\", \"domain\": [0.0, 1.0], \"title\": {\"text\": \"Date\"}}, \"yaxis\": {\"anchor\": \"x\", \"domain\": [0.0, 1.0], \"title\": {\"text\": \"Enterococcus\"}}},\n",
              "                        {\"responsive\": true}\n",
              "                    ).then(function(){\n",
              "                            \n",
              "var gd = document.getElementById('7da24fae-66e5-4664-803e-cb66f7eda37f');\n",
              "var x = new MutationObserver(function (mutations, observer) {{\n",
              "        var display = window.getComputedStyle(gd).display;\n",
              "        if (!display || display === 'none') {{\n",
              "            console.log([gd, 'removed!']);\n",
              "            Plotly.purge(gd);\n",
              "            observer.disconnect();\n",
              "        }}\n",
              "}});\n",
              "\n",
              "// Listen for the removal of the full notebook cells\n",
              "var notebookContainer = gd.closest('#notebook-container');\n",
              "if (notebookContainer) {{\n",
              "    x.observe(notebookContainer, {childList: true});\n",
              "}}\n",
              "\n",
              "// Listen for the clearing of the current output cell\n",
              "var outputEl = gd.closest('.output');\n",
              "if (outputEl) {{\n",
              "    x.observe(outputEl, {childList: true});\n",
              "}}\n",
              "\n",
              "                        })\n",
              "                };\n",
              "                \n",
              "            </script>\n",
              "        </div>\n",
              "</body>\n",
              "</html>"
            ]
          },
          "metadata": {
            "tags": []
          }
        },
        {
          "output_type": "stream",
          "text": [
            "None\n"
          ],
          "name": "stdout"
        }
      ]
    },
    {
      "cell_type": "markdown",
      "metadata": {
        "id": "4TGq8uE3hR52",
        "colab_type": "text"
      },
      "source": [
        "*According with CETESB criteria for sea water: the Enterococcus density greater than 100 UFC/100ml, in two or more samples of a set of five weeks or values greater than 400UFC/100ml in the last sample,  characterize the impropriety of beach for primary contact recreation.*\n",
        "\n",
        "---\n",
        "**1st Goal Reached**\n",
        "\n",
        "- [x] **Check ammount of *Enterococcus* along the years and analyze if it has improved or not**\n",
        "\n",
        "> Analyzing the graph above we can see that along the years the Enterococcus mean is about 45 UFC/100ml and 78 UFC/100ml. From 2013 until 2016 the amount of Enterococcus was decreasing every year, but in 2018 and 2019 increased.\n",
        "\n",
        "> The Enterococcus mean was about the same along the 8 years of analysis, so there were no improvements that worked and there was no major worsening either.  "
      ]
    },
    {
      "cell_type": "markdown",
      "metadata": {
        "id": "cDo26_55ryR_",
        "colab_type": "text"
      },
      "source": [
        "## 2nd Goal\n",
        "\n",
        "- [ ] Check if the vacations or holidays have some relation with the the quality of the water.\n",
        "\n",
        "Vacations in Brazil are usually in the months of **June - 06**, **July - 07**, **December - 12**, **January - 01** and **February - 02**\n",
        "\n"
      ]
    },
    {
      "cell_type": "markdown",
      "metadata": {
        "id": "InOpzAK3uPiv",
        "colab_type": "text"
      },
      "source": [
        "I will analyze the data by month, so it's necessary to get the data together by month"
      ]
    },
    {
      "cell_type": "code",
      "metadata": {
        "id": "Gkxk2EP0uOTO",
        "colab_type": "code",
        "colab": {
          "base_uri": "https://localhost:8080/",
          "height": 426
        },
        "outputId": "95c4a3ae-04c8-46a7-c6f5-e4ebbb553c3f"
      },
      "source": [
        "\n",
        "months = df.groupby(df['Date'].dt.month)['Enterococcus'].mean().to_frame().reset_index() \n",
        "months\n"
      ],
      "execution_count": null,
      "outputs": [
        {
          "output_type": "execute_result",
          "data": {
            "text/html": [
              "<div>\n",
              "<style scoped>\n",
              "    .dataframe tbody tr th:only-of-type {\n",
              "        vertical-align: middle;\n",
              "    }\n",
              "\n",
              "    .dataframe tbody tr th {\n",
              "        vertical-align: top;\n",
              "    }\n",
              "\n",
              "    .dataframe thead th {\n",
              "        text-align: right;\n",
              "    }\n",
              "</style>\n",
              "<table border=\"1\" class=\"dataframe\">\n",
              "  <thead>\n",
              "    <tr style=\"text-align: right;\">\n",
              "      <th></th>\n",
              "      <th>Date</th>\n",
              "      <th>Enterococcus</th>\n",
              "    </tr>\n",
              "  </thead>\n",
              "  <tbody>\n",
              "    <tr>\n",
              "      <th>0</th>\n",
              "      <td>1</td>\n",
              "      <td>87.823974</td>\n",
              "    </tr>\n",
              "    <tr>\n",
              "      <th>1</th>\n",
              "      <td>2</td>\n",
              "      <td>73.097324</td>\n",
              "    </tr>\n",
              "    <tr>\n",
              "      <th>2</th>\n",
              "      <td>3</td>\n",
              "      <td>70.216661</td>\n",
              "    </tr>\n",
              "    <tr>\n",
              "      <th>3</th>\n",
              "      <td>4</td>\n",
              "      <td>53.766667</td>\n",
              "    </tr>\n",
              "    <tr>\n",
              "      <th>4</th>\n",
              "      <td>5</td>\n",
              "      <td>46.969393</td>\n",
              "    </tr>\n",
              "    <tr>\n",
              "      <th>5</th>\n",
              "      <td>6</td>\n",
              "      <td>54.194493</td>\n",
              "    </tr>\n",
              "    <tr>\n",
              "      <th>6</th>\n",
              "      <td>7</td>\n",
              "      <td>47.642638</td>\n",
              "    </tr>\n",
              "    <tr>\n",
              "      <th>7</th>\n",
              "      <td>8</td>\n",
              "      <td>50.503696</td>\n",
              "    </tr>\n",
              "    <tr>\n",
              "      <th>8</th>\n",
              "      <td>9</td>\n",
              "      <td>49.778595</td>\n",
              "    </tr>\n",
              "    <tr>\n",
              "      <th>9</th>\n",
              "      <td>10</td>\n",
              "      <td>47.975452</td>\n",
              "    </tr>\n",
              "    <tr>\n",
              "      <th>10</th>\n",
              "      <td>11</td>\n",
              "      <td>59.584970</td>\n",
              "    </tr>\n",
              "    <tr>\n",
              "      <th>11</th>\n",
              "      <td>12</td>\n",
              "      <td>62.943396</td>\n",
              "    </tr>\n",
              "  </tbody>\n",
              "</table>\n",
              "</div>"
            ],
            "text/plain": [
              "    Date  Enterococcus\n",
              "0      1     87.823974\n",
              "1      2     73.097324\n",
              "2      3     70.216661\n",
              "3      4     53.766667\n",
              "4      5     46.969393\n",
              "5      6     54.194493\n",
              "6      7     47.642638\n",
              "7      8     50.503696\n",
              "8      9     49.778595\n",
              "9     10     47.975452\n",
              "10    11     59.584970\n",
              "11    12     62.943396"
            ]
          },
          "metadata": {
            "tags": []
          },
          "execution_count": 24
        }
      ]
    },
    {
      "cell_type": "markdown",
      "metadata": {
        "id": "640j2riI5JnS",
        "colab_type": "text"
      },
      "source": [
        "Creating the graph required "
      ]
    },
    {
      "cell_type": "code",
      "metadata": {
        "id": "GEbq5FMHPRrT",
        "colab_type": "code",
        "colab": {
          "base_uri": "https://localhost:8080/",
          "height": 542
        },
        "outputId": "9447dc1f-5eb5-427e-9458-4314c7fabd44"
      },
      "source": [
        "fig2 = px.bar(months, x = 'Date', y = 'Enterococcus', \n",
        "              title = 'Enterococcus mena per month', color= 'Enterococcus', \n",
        "              color_continuous_scale= px.colors.sequential.Viridis_r)\n",
        "fig2.show()"
      ],
      "execution_count": null,
      "outputs": [
        {
          "output_type": "display_data",
          "data": {
            "text/html": [
              "<html>\n",
              "<head><meta charset=\"utf-8\" /></head>\n",
              "<body>\n",
              "    <div>\n",
              "            <script src=\"https://cdnjs.cloudflare.com/ajax/libs/mathjax/2.7.5/MathJax.js?config=TeX-AMS-MML_SVG\"></script><script type=\"text/javascript\">if (window.MathJax) {MathJax.Hub.Config({SVG: {font: \"STIX-Web\"}});}</script>\n",
              "                <script type=\"text/javascript\">window.PlotlyConfig = {MathJaxConfig: 'local'};</script>\n",
              "        <script src=\"https://cdn.plot.ly/plotly-latest.min.js\"></script>    \n",
              "            <div id=\"b6bdc9d6-1e96-4f54-844d-f619246d1a49\" class=\"plotly-graph-div\" style=\"height:525px; width:100%;\"></div>\n",
              "            <script type=\"text/javascript\">\n",
              "                \n",
              "                    window.PLOTLYENV=window.PLOTLYENV || {};\n",
              "                    \n",
              "                if (document.getElementById(\"b6bdc9d6-1e96-4f54-844d-f619246d1a49\")) {\n",
              "                    Plotly.newPlot(\n",
              "                        'b6bdc9d6-1e96-4f54-844d-f619246d1a49',\n",
              "                        [{\"alignmentgroup\": \"True\", \"hoverlabel\": {\"namelength\": 0}, \"hovertemplate\": \"Date=%{x}<br>Enterococcus=%{marker.color}\", \"legendgroup\": \"\", \"marker\": {\"color\": [87.82397357243983, 73.09732401568093, 70.21666143708818, 53.766666666666666, 46.9693932342939, 54.19449285465319, 47.642638036809814, 50.503695691364705, 49.77859463156095, 47.975452427880306, 59.58497043677284, 62.943396226415096], \"coloraxis\": \"coloraxis\"}, \"name\": \"\", \"offsetgroup\": \"\", \"orientation\": \"v\", \"showlegend\": false, \"textposition\": \"auto\", \"type\": \"bar\", \"x\": [1, 2, 3, 4, 5, 6, 7, 8, 9, 10, 11, 12], \"xaxis\": \"x\", \"y\": [87.82397357243983, 73.09732401568093, 70.21666143708818, 53.766666666666666, 46.9693932342939, 54.19449285465319, 47.642638036809814, 50.503695691364705, 49.77859463156095, 47.975452427880306, 59.58497043677284, 62.943396226415096], \"yaxis\": \"y\"}],\n",
              "                        {\"barmode\": \"relative\", \"coloraxis\": {\"colorbar\": {\"title\": {\"text\": \"Enterococcus\"}}, \"colorscale\": [[0.0, \"#fde725\"], [0.1111111111111111, \"#b5de2b\"], [0.2222222222222222, \"#6ece58\"], [0.3333333333333333, \"#35b779\"], [0.4444444444444444, \"#1f9e89\"], [0.5555555555555556, \"#26828e\"], [0.6666666666666666, \"#31688e\"], [0.7777777777777778, \"#3e4989\"], [0.8888888888888888, \"#482878\"], [1.0, \"#440154\"]]}, \"legend\": {\"tracegroupgap\": 0}, \"template\": {\"data\": {\"bar\": [{\"error_x\": {\"color\": \"#2a3f5f\"}, \"error_y\": {\"color\": \"#2a3f5f\"}, \"marker\": {\"line\": {\"color\": \"#E5ECF6\", \"width\": 0.5}}, \"type\": \"bar\"}], \"barpolar\": [{\"marker\": {\"line\": {\"color\": \"#E5ECF6\", \"width\": 0.5}}, \"type\": \"barpolar\"}], \"carpet\": [{\"aaxis\": {\"endlinecolor\": \"#2a3f5f\", \"gridcolor\": \"white\", \"linecolor\": \"white\", \"minorgridcolor\": \"white\", \"startlinecolor\": \"#2a3f5f\"}, \"baxis\": {\"endlinecolor\": \"#2a3f5f\", \"gridcolor\": \"white\", \"linecolor\": \"white\", \"minorgridcolor\": \"white\", \"startlinecolor\": \"#2a3f5f\"}, \"type\": \"carpet\"}], \"choropleth\": [{\"colorbar\": {\"outlinewidth\": 0, \"ticks\": \"\"}, \"type\": \"choropleth\"}], \"contour\": [{\"colorbar\": {\"outlinewidth\": 0, \"ticks\": \"\"}, \"colorscale\": [[0.0, \"#0d0887\"], [0.1111111111111111, \"#46039f\"], [0.2222222222222222, \"#7201a8\"], [0.3333333333333333, \"#9c179e\"], [0.4444444444444444, \"#bd3786\"], [0.5555555555555556, \"#d8576b\"], [0.6666666666666666, \"#ed7953\"], [0.7777777777777778, \"#fb9f3a\"], [0.8888888888888888, \"#fdca26\"], [1.0, \"#f0f921\"]], \"type\": \"contour\"}], \"contourcarpet\": [{\"colorbar\": {\"outlinewidth\": 0, \"ticks\": \"\"}, \"type\": \"contourcarpet\"}], \"heatmap\": [{\"colorbar\": {\"outlinewidth\": 0, \"ticks\": \"\"}, \"colorscale\": [[0.0, \"#0d0887\"], [0.1111111111111111, \"#46039f\"], [0.2222222222222222, \"#7201a8\"], [0.3333333333333333, \"#9c179e\"], [0.4444444444444444, \"#bd3786\"], [0.5555555555555556, \"#d8576b\"], [0.6666666666666666, \"#ed7953\"], [0.7777777777777778, \"#fb9f3a\"], [0.8888888888888888, \"#fdca26\"], [1.0, \"#f0f921\"]], \"type\": \"heatmap\"}], \"heatmapgl\": [{\"colorbar\": {\"outlinewidth\": 0, \"ticks\": \"\"}, \"colorscale\": [[0.0, \"#0d0887\"], [0.1111111111111111, \"#46039f\"], [0.2222222222222222, \"#7201a8\"], [0.3333333333333333, \"#9c179e\"], [0.4444444444444444, \"#bd3786\"], [0.5555555555555556, \"#d8576b\"], [0.6666666666666666, \"#ed7953\"], [0.7777777777777778, \"#fb9f3a\"], [0.8888888888888888, \"#fdca26\"], [1.0, \"#f0f921\"]], \"type\": \"heatmapgl\"}], \"histogram\": [{\"marker\": {\"colorbar\": {\"outlinewidth\": 0, \"ticks\": \"\"}}, \"type\": \"histogram\"}], \"histogram2d\": [{\"colorbar\": {\"outlinewidth\": 0, \"ticks\": \"\"}, \"colorscale\": [[0.0, \"#0d0887\"], [0.1111111111111111, \"#46039f\"], [0.2222222222222222, \"#7201a8\"], [0.3333333333333333, \"#9c179e\"], [0.4444444444444444, \"#bd3786\"], [0.5555555555555556, \"#d8576b\"], [0.6666666666666666, \"#ed7953\"], [0.7777777777777778, \"#fb9f3a\"], [0.8888888888888888, \"#fdca26\"], [1.0, \"#f0f921\"]], \"type\": \"histogram2d\"}], \"histogram2dcontour\": [{\"colorbar\": {\"outlinewidth\": 0, \"ticks\": \"\"}, \"colorscale\": [[0.0, \"#0d0887\"], [0.1111111111111111, \"#46039f\"], [0.2222222222222222, \"#7201a8\"], [0.3333333333333333, \"#9c179e\"], [0.4444444444444444, \"#bd3786\"], [0.5555555555555556, \"#d8576b\"], [0.6666666666666666, \"#ed7953\"], [0.7777777777777778, \"#fb9f3a\"], [0.8888888888888888, \"#fdca26\"], [1.0, \"#f0f921\"]], \"type\": \"histogram2dcontour\"}], \"mesh3d\": [{\"colorbar\": {\"outlinewidth\": 0, \"ticks\": \"\"}, \"type\": \"mesh3d\"}], \"parcoords\": [{\"line\": {\"colorbar\": {\"outlinewidth\": 0, \"ticks\": \"\"}}, \"type\": \"parcoords\"}], \"pie\": [{\"automargin\": true, \"type\": \"pie\"}], \"scatter\": [{\"marker\": {\"colorbar\": {\"outlinewidth\": 0, \"ticks\": \"\"}}, \"type\": \"scatter\"}], \"scatter3d\": [{\"line\": {\"colorbar\": {\"outlinewidth\": 0, \"ticks\": \"\"}}, \"marker\": {\"colorbar\": {\"outlinewidth\": 0, \"ticks\": \"\"}}, \"type\": \"scatter3d\"}], \"scattercarpet\": [{\"marker\": {\"colorbar\": {\"outlinewidth\": 0, \"ticks\": \"\"}}, \"type\": \"scattercarpet\"}], \"scattergeo\": [{\"marker\": {\"colorbar\": {\"outlinewidth\": 0, \"ticks\": \"\"}}, \"type\": \"scattergeo\"}], \"scattergl\": [{\"marker\": {\"colorbar\": {\"outlinewidth\": 0, \"ticks\": \"\"}}, \"type\": \"scattergl\"}], \"scattermapbox\": [{\"marker\": {\"colorbar\": {\"outlinewidth\": 0, \"ticks\": \"\"}}, \"type\": \"scattermapbox\"}], \"scatterpolar\": [{\"marker\": {\"colorbar\": {\"outlinewidth\": 0, \"ticks\": \"\"}}, \"type\": \"scatterpolar\"}], \"scatterpolargl\": [{\"marker\": {\"colorbar\": {\"outlinewidth\": 0, \"ticks\": \"\"}}, \"type\": \"scatterpolargl\"}], \"scatterternary\": [{\"marker\": {\"colorbar\": {\"outlinewidth\": 0, \"ticks\": \"\"}}, \"type\": \"scatterternary\"}], \"surface\": [{\"colorbar\": {\"outlinewidth\": 0, \"ticks\": \"\"}, \"colorscale\": [[0.0, \"#0d0887\"], [0.1111111111111111, \"#46039f\"], [0.2222222222222222, \"#7201a8\"], [0.3333333333333333, \"#9c179e\"], [0.4444444444444444, \"#bd3786\"], [0.5555555555555556, \"#d8576b\"], [0.6666666666666666, \"#ed7953\"], [0.7777777777777778, \"#fb9f3a\"], [0.8888888888888888, \"#fdca26\"], [1.0, \"#f0f921\"]], \"type\": \"surface\"}], \"table\": [{\"cells\": {\"fill\": {\"color\": \"#EBF0F8\"}, \"line\": {\"color\": \"white\"}}, \"header\": {\"fill\": {\"color\": \"#C8D4E3\"}, \"line\": {\"color\": \"white\"}}, \"type\": \"table\"}]}, \"layout\": {\"annotationdefaults\": {\"arrowcolor\": \"#2a3f5f\", \"arrowhead\": 0, \"arrowwidth\": 1}, \"coloraxis\": {\"colorbar\": {\"outlinewidth\": 0, \"ticks\": \"\"}}, \"colorscale\": {\"diverging\": [[0, \"#8e0152\"], [0.1, \"#c51b7d\"], [0.2, \"#de77ae\"], [0.3, \"#f1b6da\"], [0.4, \"#fde0ef\"], [0.5, \"#f7f7f7\"], [0.6, \"#e6f5d0\"], [0.7, \"#b8e186\"], [0.8, \"#7fbc41\"], [0.9, \"#4d9221\"], [1, \"#276419\"]], \"sequential\": [[0.0, \"#0d0887\"], [0.1111111111111111, \"#46039f\"], [0.2222222222222222, \"#7201a8\"], [0.3333333333333333, \"#9c179e\"], [0.4444444444444444, \"#bd3786\"], [0.5555555555555556, \"#d8576b\"], [0.6666666666666666, \"#ed7953\"], [0.7777777777777778, \"#fb9f3a\"], [0.8888888888888888, \"#fdca26\"], [1.0, \"#f0f921\"]], \"sequentialminus\": [[0.0, \"#0d0887\"], [0.1111111111111111, \"#46039f\"], [0.2222222222222222, \"#7201a8\"], [0.3333333333333333, \"#9c179e\"], [0.4444444444444444, \"#bd3786\"], [0.5555555555555556, \"#d8576b\"], [0.6666666666666666, \"#ed7953\"], [0.7777777777777778, \"#fb9f3a\"], [0.8888888888888888, \"#fdca26\"], [1.0, \"#f0f921\"]]}, \"colorway\": [\"#636efa\", \"#EF553B\", \"#00cc96\", \"#ab63fa\", \"#FFA15A\", \"#19d3f3\", \"#FF6692\", \"#B6E880\", \"#FF97FF\", \"#FECB52\"], \"font\": {\"color\": \"#2a3f5f\"}, \"geo\": {\"bgcolor\": \"white\", \"lakecolor\": \"white\", \"landcolor\": \"#E5ECF6\", \"showlakes\": true, \"showland\": true, \"subunitcolor\": \"white\"}, \"hoverlabel\": {\"align\": \"left\"}, \"hovermode\": \"closest\", \"mapbox\": {\"style\": \"light\"}, \"paper_bgcolor\": \"white\", \"plot_bgcolor\": \"#E5ECF6\", \"polar\": {\"angularaxis\": {\"gridcolor\": \"white\", \"linecolor\": \"white\", \"ticks\": \"\"}, \"bgcolor\": \"#E5ECF6\", \"radialaxis\": {\"gridcolor\": \"white\", \"linecolor\": \"white\", \"ticks\": \"\"}}, \"scene\": {\"xaxis\": {\"backgroundcolor\": \"#E5ECF6\", \"gridcolor\": \"white\", \"gridwidth\": 2, \"linecolor\": \"white\", \"showbackground\": true, \"ticks\": \"\", \"zerolinecolor\": \"white\"}, \"yaxis\": {\"backgroundcolor\": \"#E5ECF6\", \"gridcolor\": \"white\", \"gridwidth\": 2, \"linecolor\": \"white\", \"showbackground\": true, \"ticks\": \"\", \"zerolinecolor\": \"white\"}, \"zaxis\": {\"backgroundcolor\": \"#E5ECF6\", \"gridcolor\": \"white\", \"gridwidth\": 2, \"linecolor\": \"white\", \"showbackground\": true, \"ticks\": \"\", \"zerolinecolor\": \"white\"}}, \"shapedefaults\": {\"line\": {\"color\": \"#2a3f5f\"}}, \"ternary\": {\"aaxis\": {\"gridcolor\": \"white\", \"linecolor\": \"white\", \"ticks\": \"\"}, \"baxis\": {\"gridcolor\": \"white\", \"linecolor\": \"white\", \"ticks\": \"\"}, \"bgcolor\": \"#E5ECF6\", \"caxis\": {\"gridcolor\": \"white\", \"linecolor\": \"white\", \"ticks\": \"\"}}, \"title\": {\"x\": 0.05}, \"xaxis\": {\"automargin\": true, \"gridcolor\": \"white\", \"linecolor\": \"white\", \"ticks\": \"\", \"title\": {\"standoff\": 15}, \"zerolinecolor\": \"white\", \"zerolinewidth\": 2}, \"yaxis\": {\"automargin\": true, \"gridcolor\": \"white\", \"linecolor\": \"white\", \"ticks\": \"\", \"title\": {\"standoff\": 15}, \"zerolinecolor\": \"white\", \"zerolinewidth\": 2}}}, \"title\": {\"text\": \"Enterococcus mena per month\"}, \"xaxis\": {\"anchor\": \"y\", \"domain\": [0.0, 1.0], \"title\": {\"text\": \"Date\"}}, \"yaxis\": {\"anchor\": \"x\", \"domain\": [0.0, 1.0], \"title\": {\"text\": \"Enterococcus\"}}},\n",
              "                        {\"responsive\": true}\n",
              "                    ).then(function(){\n",
              "                            \n",
              "var gd = document.getElementById('b6bdc9d6-1e96-4f54-844d-f619246d1a49');\n",
              "var x = new MutationObserver(function (mutations, observer) {{\n",
              "        var display = window.getComputedStyle(gd).display;\n",
              "        if (!display || display === 'none') {{\n",
              "            console.log([gd, 'removed!']);\n",
              "            Plotly.purge(gd);\n",
              "            observer.disconnect();\n",
              "        }}\n",
              "}});\n",
              "\n",
              "// Listen for the removal of the full notebook cells\n",
              "var notebookContainer = gd.closest('#notebook-container');\n",
              "if (notebookContainer) {{\n",
              "    x.observe(notebookContainer, {childList: true});\n",
              "}}\n",
              "\n",
              "// Listen for the clearing of the current output cell\n",
              "var outputEl = gd.closest('.output');\n",
              "if (outputEl) {{\n",
              "    x.observe(outputEl, {childList: true});\n",
              "}}\n",
              "\n",
              "                        })\n",
              "                };\n",
              "                \n",
              "            </script>\n",
              "        </div>\n",
              "</body>\n",
              "</html>"
            ]
          },
          "metadata": {
            "tags": []
          }
        }
      ]
    },
    {
      "cell_type": "markdown",
      "metadata": {
        "id": "JK07PyHHWCXF",
        "colab_type": "text"
      },
      "source": [
        "**2nd Goal Reached**\n",
        "\n",
        "- [x] **Check if the vacations or holidays have some relation with the the quality of the water.**\n",
        "\n",
        "> Analyzing the graph above we can see that in the months from December to March, especially January the levels os Enterococcus is much higher than the others. This coincides with the most used months for vacation but also coincides with the most rainy months in the year. See the graph below acquired at this [link!](https://pt.climate-data.org/america-do-sul/brasil/sao-paulo/sao-paulo-655/#climate-table) showing the months vs precipitation.\n",
        "\n",
        "\n",
        "<center><img src=\"https://images.climate-data.org/location/655/climate-graph.png\" width=\"600\" height=\"400\" /></center>"
      ]
    },
    {
      "cell_type": "markdown",
      "metadata": {
        "id": "WA9SZ_QA4Igc",
        "colab_type": "text"
      },
      "source": [
        "We can see that precipitaion is higher basically at the same months that we have high values of Enterococcus, it show us that the amount of Enterococcus at the beaches increases due a lot of reasons. Vacation concentrate more people at the beaches, and the problem of the rain is that clandestine sewage connections galleries and rivers and streams are guided to the sea taking with them all the trash making the beach become contamined and inaproprietaded for bath \n",
        "\n"
      ]
    },
    {
      "cell_type": "markdown",
      "metadata": {
        "id": "r4_dhWkw4SFD",
        "colab_type": "text"
      },
      "source": [
        "## 3th Goal\n",
        "\n",
        "- [ ] Plot on a map the beaches and the ammount of Enterococcus colected in each of them. \n",
        "\n",
        "Since we need the coordinates of each beach to create a map, I took them in google maps and create a new dataframe with two aditional columns, lat and long, in xlsx format."
      ]
    },
    {
      "cell_type": "code",
      "metadata": {
        "id": "U_UqETce4PpT",
        "colab_type": "code",
        "colab": {
          "base_uri": "https://localhost:8080/",
          "height": 206
        },
        "outputId": "1386a456-c411-4a6d-ed6b-32eaa1f23996"
      },
      "source": [
        "latlon = pd.read_excel('/content/sp_beaches_latlon(1).xlsx', parse_dates=True)\n",
        "latlon.head()"
      ],
      "execution_count": null,
      "outputs": [
        {
          "output_type": "execute_result",
          "data": {
            "text/html": [
              "<div>\n",
              "<style scoped>\n",
              "    .dataframe tbody tr th:only-of-type {\n",
              "        vertical-align: middle;\n",
              "    }\n",
              "\n",
              "    .dataframe tbody tr th {\n",
              "        vertical-align: top;\n",
              "    }\n",
              "\n",
              "    .dataframe thead th {\n",
              "        text-align: right;\n",
              "    }\n",
              "</style>\n",
              "<table border=\"1\" class=\"dataframe\">\n",
              "  <thead>\n",
              "    <tr style=\"text-align: right;\">\n",
              "      <th></th>\n",
              "      <th>Unnamed: 0</th>\n",
              "      <th>Beach</th>\n",
              "      <th>City</th>\n",
              "      <th>Enterococcus</th>\n",
              "      <th>lat</th>\n",
              "      <th>lon</th>\n",
              "    </tr>\n",
              "  </thead>\n",
              "  <tbody>\n",
              "    <tr>\n",
              "      <th>0</th>\n",
              "      <td>0</td>\n",
              "      <td>AGENOR DE CAMPOS</td>\n",
              "      <td>MONGAGUÁ</td>\n",
              "      <td>81.766110</td>\n",
              "      <td>-24.133046</td>\n",
              "      <td>-46.691516</td>\n",
              "    </tr>\n",
              "    <tr>\n",
              "      <th>1</th>\n",
              "      <td>1</td>\n",
              "      <td>APARECIDA</td>\n",
              "      <td>SANTOS</td>\n",
              "      <td>96.835322</td>\n",
              "      <td>-23.983527</td>\n",
              "      <td>-46.310940</td>\n",
              "    </tr>\n",
              "    <tr>\n",
              "      <th>2</th>\n",
              "      <td>2</td>\n",
              "      <td>ARMAÇÃO</td>\n",
              "      <td>ILHABELA</td>\n",
              "      <td>66.038186</td>\n",
              "      <td>-23.738485</td>\n",
              "      <td>-45.345435</td>\n",
              "    </tr>\n",
              "    <tr>\n",
              "      <th>3</th>\n",
              "      <td>3</td>\n",
              "      <td>ARRASTÃO</td>\n",
              "      <td>SÃO SEBASTIÃO</td>\n",
              "      <td>53.207637</td>\n",
              "      <td>-23.771381</td>\n",
              "      <td>-45.402686</td>\n",
              "    </tr>\n",
              "    <tr>\n",
              "      <th>4</th>\n",
              "      <td>4</td>\n",
              "      <td>ASTÚRIAS</td>\n",
              "      <td>GUARUJÁ</td>\n",
              "      <td>39.367542</td>\n",
              "      <td>-24.006466</td>\n",
              "      <td>-46.268172</td>\n",
              "    </tr>\n",
              "  </tbody>\n",
              "</table>\n",
              "</div>"
            ],
            "text/plain": [
              "   Unnamed: 0             Beach  ...        lat        lon\n",
              "0           0  AGENOR DE CAMPOS  ... -24.133046 -46.691516\n",
              "1           1         APARECIDA  ... -23.983527 -46.310940\n",
              "2           2           ARMAÇÃO  ... -23.738485 -45.345435\n",
              "3           3          ARRASTÃO  ... -23.771381 -45.402686\n",
              "4           4          ASTÚRIAS  ... -24.006466 -46.268172\n",
              "\n",
              "[5 rows x 6 columns]"
            ]
          },
          "metadata": {
            "tags": []
          },
          "execution_count": 26
        }
      ]
    },
    {
      "cell_type": "markdown",
      "metadata": {
        "id": "Ch33P1jOhb6O",
        "colab_type": "text"
      },
      "source": [
        "Ploting a Scatter map.\n",
        "\n",
        "Below is ploted a mapbox graph so we can see that the bigger and darker the circle the more polluted the water is."
      ]
    },
    {
      "cell_type": "code",
      "metadata": {
        "id": "AFlRetqHvOA_",
        "colab_type": "code",
        "colab": {
          "base_uri": "https://localhost:8080/",
          "height": 517
        },
        "outputId": "6bc999f6-a368-46b1-bb49-104480556d18"
      },
      "source": [
        "\n",
        "fig3 = px.scatter_mapbox(latlon, lat=\"lat\", lon=\"lon\", hover_name=\"City\", size='Enterococcus', color='Enterococcus', size_max= 50,\n",
        "                        color_continuous_scale= px.colors.sequential.Inferno_r, zoom=8, height=500)\n",
        "fig3.update_layout(mapbox_style=\"open-street-map\")\n",
        "fig3.update_layout(margin={\"r\":10,\"t\":10,\"l\":0,\"b\":0})\n",
        "fig3.show()"
      ],
      "execution_count": null,
      "outputs": [
        {
          "output_type": "display_data",
          "data": {
            "text/html": [
              "<html>\n",
              "<head><meta charset=\"utf-8\" /></head>\n",
              "<body>\n",
              "    <div>\n",
              "            <script src=\"https://cdnjs.cloudflare.com/ajax/libs/mathjax/2.7.5/MathJax.js?config=TeX-AMS-MML_SVG\"></script><script type=\"text/javascript\">if (window.MathJax) {MathJax.Hub.Config({SVG: {font: \"STIX-Web\"}});}</script>\n",
              "                <script type=\"text/javascript\">window.PlotlyConfig = {MathJaxConfig: 'local'};</script>\n",
              "        <script src=\"https://cdn.plot.ly/plotly-latest.min.js\"></script>    \n",
              "            <div id=\"b294816c-48d4-4dd5-9a67-adb048435b0b\" class=\"plotly-graph-div\" style=\"height:500px; width:100%;\"></div>\n",
              "            <script type=\"text/javascript\">\n",
              "                \n",
              "                    window.PLOTLYENV=window.PLOTLYENV || {};\n",
              "                    \n",
              "                if (document.getElementById(\"b294816c-48d4-4dd5-9a67-adb048435b0b\")) {\n",
              "                    Plotly.newPlot(\n",
              "                        'b294816c-48d4-4dd5-9a67-adb048435b0b',\n",
              "                        [{\"hoverlabel\": {\"namelength\": 0}, \"hovertemplate\": \"<b>%{hovertext}</b><br><br>Enterococcus=%{marker.color}<br>lat=%{lat}<br>lon=%{lon}\", \"hovertext\": [\"MONGAGU\\u00c1\", \"SANTOS\", \"ILHABELA\", \"S\\u00c3O SEBASTI\\u00c3O\", \"GUARUJ\\u00c1\", \"PRAIA GRANDE\", \"S\\u00c3O SEBASTI\\u00c3O\", \"ILHA COMPRIDA\", \"PRAIA GRANDE\", \"ITANHA\\u00c9M\", \"S\\u00c3O SEBASTI\\u00c3O\", \"ILHABELA\", \"ILHABELA\", \"S\\u00c3O SEBASTI\\u00c3O\", \"PRAIA GRANDE\", \"SANTOS\", \"BERTIOGA\", \"S\\u00c3O SEBASTI\\u00c3O\", \"S\\u00c3O SEBASTI\\u00c3O\", \"BERTIOGA\", \"S\\u00c3O SEBASTI\\u00c3O\", \"S\\u00c3O SEBASTI\\u00c3O\", \"ITANHA\\u00c9M\", \"PRAIA GRANDE\", \"CARAGUATATUBA\", \"MONGAGU\\u00c1\", \"CARAGUATATUBA\", \"ILHA COMPRIDA\", \"ITANHA\\u00c9M\", \"S\\u00c3O SEBASTI\\u00c3O\", \"CARAGUATATUBA\", \"ILHABELA\", \"S\\u00c3O SEBASTI\\u00c3O\", \"IGUAPE\", \"UBATUBA\", \"UBATUBA\", \"SANTOS\", \"S\\u00c3O SEBASTI\\u00c3O\", \"ILHABELA\", \"UBATUBA\", \"GUARUJ\\u00c1\", \"GUARUJ\\u00c1\", \"GUARUJ\\u00c1\", \"GUARUJ\\u00c1\", \"BERTIOGA\", \"BERTIOGA\", \"BERTIOGA\", \"BERTIOGA\", \"ITANHA\\u00c9M\", \"ILHABELA\", \"MONGAGU\\u00c1\", \"UBATUBA\", \"SANTOS\", \"S\\u00c3O VICENTE\", \"ILHABELA\", \"S\\u00c3O SEBASTI\\u00c3O\", \"UBATUBA\", \"S\\u00c3O SEBASTI\\u00c3O\", \"GUARUJ\\u00c1\", \"BERTIOGA\", \"PERU\\u00cdBE\", \"PRAIA GRANDE\", \"ILHABELA\", \"CARAGUATATUBA\", \"UBATUBA\", \"GUARUJ\\u00c1\", \"UBATUBA\", \"ILHABELA\", \"UBATUBA\", \"UBATUBA\", \"MONGAGU\\u00c1\", \"ILHABELA\", \"S\\u00c3O VICENTE\", \"MONGAGU\\u00c1\", \"ITANHA\\u00c9M\", \"ITANHA\\u00c9M\", \"PRAIA GRANDE\", \"ITANHA\\u00c9M\", \"SANTOS\", \"SANTOS\", \"ILHABELA\", \"S\\u00c3O SEBASTI\\u00c3O\", \"S\\u00c3O SEBASTI\\u00c3O\", \"IGUAPE\", \"S\\u00c3O SEBASTI\\u00c3O\", \"CARAGUATATUBA\", \"UBATUBA\", \"UBATUBA\", \"UBATUBA\", \"UBATUBA\", \"PRAIA GRANDE\", \"UBATUBA\", \"S\\u00c3O SEBASTI\\u00c3O\", \"S\\u00c3O SEBASTI\\u00c3O\", \"CARAGUATATUBA\", \"CARAGUATATUBA\", \"CARAGUATATUBA\", \"S\\u00c3O VICENTE\", \"CARAGUATATUBA\", \"PRAIA GRANDE\", \"CARAGUATATUBA\", \"CARAGUATATUBA\", \"ITANHA\\u00c9M\", \"S\\u00c3O SEBASTI\\u00c3O\", \"GUARUJ\\u00c1\", \"ILHABELA\", \"UBATUBA\", \"UBATUBA\", \"GUARUJ\\u00c1\", \"PERU\\u00cdBE\", \"PERU\\u00cdBE\", \"PERU\\u00cdBE\", \"PERU\\u00cdBE\", \"UBATUBA\", \"ILHABELA\", \"GUARUJ\\u00c1\", \"GUARUJ\\u00c1\", \"SANTOS\", \"ILHA COMPRIDA\", \"S\\u00c3O SEBASTI\\u00c3O\", \"ILHABELA\", \"S\\u00c3O SEBASTI\\u00c3O\", \"CARAGUATATUBA\", \"S\\u00c3O VICENTE\", \"S\\u00c3O VICENTE\", \"ILHA ANCHIETA\", \"ILHA ANCHIETA\", \"ILHA ANCHIETA\", \"ILHA ANCHIETA\", \"ILHA ANCHIETA\", \"ILHA ANCHIETA\", \"ITANHA\\u00c9M\", \"CARAGUATATUBA\", \"PERU\\u00cdBE\", \"S\\u00c3O SEBASTI\\u00c3O\", \"S\\u00c3O VICENTE\", \"ILHA COMPRIDA\", \"ILHA ANCHIETA\", \"S\\u00c3O SEBASTI\\u00c3O\", \"S\\u00c3O SEBASTI\\u00c3O\", \"UBATUBA\", \"UBATUBA\", \"PRAIA GRANDE\", \"UBATUBA\", \"CUBAT\\u00c3O\", \"ILHABELA\", \"MONGAGU\\u00c1\", \"UBATUBA\", \"S\\u00c3O SEBASTI\\u00c3O\", \"UBATUBA\", \"S\\u00c3O SEBASTI\\u00c3O\", \"ILHABELA\", \"ILHABELA\", \"ITANHA\\u00c9M\", \"ITANHA\\u00c9M\", \"ITANHA\\u00c9M\", \"UBATUBA\", \"S\\u00c3O SEBASTI\\u00c3O\", \"BERTIOGA\", \"BERTIOGA\", \"CARAGUATATUBA\", \"CARAGUATATUBA\", \"UBATUBA\", \"GUARUJ\\u00c1\", \"UBATUBA\", \"S\\u00c3O SEBASTI\\u00c3O\", \"S\\u00c3O SEBASTI\\u00c3O\", \"S\\u00c3O SEBASTI\\u00c3O\", \"ILHABELA\", \"MONGAGU\\u00c1\", \"UBATUBA\", \"UBATUBA\", \"ILHABELA\", \"PRAIA GRANDE\", \"PRAIA GRANDE\", \"PRAIA GRANDE\"], \"lat\": [-24.133046, -23.983527, -23.738485, -23.771380999999998, -24.006466, -24.019328, -23.77429, -24.737963, -24.072369000000002, -24.249423999999998, -23.827868, -23.763846, -23.763846, -23.78446, -24.013941, -23.973568, -23.756201, -23.760312, -23.757804, -23.790541, -23.777998999999998, -23.777615, -24.152374, -24.015559, -23.608999, -24.098001, -23.624328, -24.744248000000002, -24.185253, -23.729799, -23.577288, -23.867283, -23.786113, -24.67054, -23.498578, -23.494872, -23.977132, -23.764135999999997, -23.790426999999998, -23.493195, -23.985775, -23.990865, -23.988386, -23.987515, -23.8313, -23.813357999999997, -23.847014, -23.81765, -24.173207, -23.845306, -24.139343, -23.389035999999997, -23.970164999999998, -23.970022, -23.85802, -23.821492000000003, -23.472366, -23.824539, -24.018596, -23.773476000000002, -24.368758, -24.015526, -23.829672, -23.637021, -23.43615, -23.903098999999997, -23.458133, -23.802643, -23.44874, -23.403253, -24.089374, -23.79952, -23.971021, -24.121742, -24.208792000000003, -24.229349, -24.080436, -24.222888, -23.968626999999998, -23.970098, -23.854481, -23.767158, -23.768545, -24.647953, -23.765214999999998, -23.622419, -23.379732, -23.519753, -23.519614999999998, -23.503331, -24.042291, -23.536639, -23.791428, -23.791643, -23.624535, -23.588622, -23.582259, -23.976175, -23.573741000000002, -24.030794, -23.670264000000003, -23.650353, -24.128857999999997, -23.803971, -23.934978, -23.808563, -23.418982999999997, -23.489133, -23.963434, -24.325013000000002, -24.310607, -24.296701000000002, -24.281762, -23.377566, -23.741899, -23.997232, -24.000474, -23.991472, -25.044104, -23.779237, -23.844266, -23.793864000000003, -23.696385, -23.971382000000002, -23.977014999999998, -23.537944, -23.509353, -23.536476999999998, -23.538995, -23.538946, -23.546333999999998, -24.193167000000003, -23.630983999999998, -24.349697, -23.744841, -23.978378, -24.710732, -23.534710999999998, -23.772043, -23.771342999999998, -23.384003, -23.556889, -24.016284, -23.407161, -23.895315, -23.78557, -24.118795000000002, -23.493814, -23.811134, -23.538809, -23.774097, -23.751342, -23.755460999999997, -24.195128, -24.165926000000002, -24.166295, -23.508958, -23.76006, -23.795838, -23.791852, -23.577607, -23.573701, -23.464838, -24.014026, -23.489781, -23.833985000000002, -23.817607000000002, -23.762278, -23.870533, -24.131209, -23.463369, -23.416557, -23.758947, -24.051786, -24.036973, -24.024084], \"legendgroup\": \"\", \"lon\": [-46.691516, -46.31094, -45.345434999999995, -45.402685999999996, -46.268172, -46.442784, -45.672622, -47.528492, -46.570640999999995, -46.894345, -45.434893, -45.349263, -45.349263, -45.62962, -46.413021, -46.324746999999995, -45.833563, -45.802851000000004, -45.851839, -45.988253, -45.651571000000004, -45.644069, -46.725252000000005, -46.403686, -45.349304, -46.623357, -45.408379, -47.539786, -46.785077, -45.399691, -45.31393, -45.432388, -45.398496, -47.418915000000005, -45.1441, -45.172711, -46.318056, -45.78151, -45.363673, -45.08849, -46.220815, -46.244064, -46.205020000000005, -46.231495, -46.110602, -46.063059, -46.132051000000004, -46.07898, -46.763148, -45.408762, -46.702528, -44.971828, -46.335862, -46.381378999999995, -45.416627000000005, -45.410413, -45.066643, -45.452529999999996, -46.290921000000004, -45.938697, -47.011437, -46.426617, -45.392524, -45.419907, -45.069613000000004, -46.152934, -45.057573, -45.36509, -45.066103999999996, -45.00504, -46.605534000000006, -45.365192, -46.362768, -46.670303000000004, -46.830252, -46.862876, -46.587668, -46.853007, -46.348269, -46.342098, -45.414242, -45.742841999999996, -45.731089000000004, -47.37395, -45.785903000000005, -45.356729, -44.95926, -45.198636, -45.199013, -45.135247, -46.505065, -45.227676, -45.566646, -45.561454, -45.378536, -45.332778999999995, -45.324925, -46.371715, -45.302284, -46.476256, 45.431228999999995, -45.426472, -46.683758000000005, -45.552044, -46.180913000000004, -45.365782, -45.060119, -45.104119, -46.18444, -46.994907, -46.979482, -46.962687, -46.943256, -44.838203, -45.348960999999996, -46.255401, -46.26246, -46.30285, -47.886452, -45.398527, -45.405854, -45.399183, -45.429499, -46.368412, -46.370477, -45.075263, -45.081182, -45.062416999999996, -45.06511, -45.068056, -45.077677, -46.796193, -45.391034999999995, -47.000766999999996, -45.407524, -46.384932, -47.543434000000005, -45.045419, -45.714508, -45.711993, -44.946286, -45.219965, -46.430043, -45.010261, -46.400311, -45.359075, -46.665226000000004, -45.102752, -45.540712, -45.228378, -45.696218, -45.349088, -45.350232, -46.801208, -46.749403, -46.750275, -45.132738, -45.409339, -45.993376, -45.991659000000006, -45.276299, -45.291173, -45.057037, -46.272303, -45.074659000000004, -45.510978, -45.534657, -45.765915, -45.435234, -46.687635, -45.048928000000004, -45.036194, -45.351071999999995, -46.525878999999996, -46.492125, -46.457029], \"marker\": {\"color\": [81.76610978520286, 96.83532219570405, 66.0381861575179, 53.20763723150358, 39.36754176610979, 86.48210023866348, 12.75417661097852, 26.34042553191489, 97.6109785202864, 52.12918660287081, 26.38663484486873, 48.90710382513661, 47.56830601092896, 31.01670644391408, 81.33890214797135, 93.6945107398568, 18.35560859188544, 45.43198090692124, 36.86873508353222, 17.47971360381862, 33.21479713603819, 12.73508353221957, 48.94258373205741, 72.62291169451073, 6.799522673031026, 77.6563245823389, 74.76133651551312, 35.19607843137255, 63.12887828162291, 47.79952267303103, 35.69928400954654, 28.47971360381862, 59.20763723150358, 109.9090909090909, 12.36038186157518, 38.64916467780429, 94.6109785202864, 23.42243436754176, 43.70520231213873, 40.07159904534606, 49.44391408114559, 48.12887828162291, 48.36515513126491, 60.23866348448687, 34.15751789976134, 27.93556085918854, 43.71121718377088, 32.74463007159905, 44.05966587112172, 56.78758949880668, 71.08722741433021, 17.89473684210526, 89.4892601431981, 284.3412887828162, 33.31264916467781, 25.48325358851675, 14.93317422434368, 13.381861575179, 32.84964200477327, 12.12649164677804, 44.97601918465228, 80.91169451073986, 60.05966587112172, 97.90453460620525, 42.58949880668258, 17.2, 182.5011933174224, 105.9713603818616, 76.9307875894988, 13.42959427207637, 74.26968973747017, 138.5178997613365, 76.0692124105012, 74.67303102625299, 43.95704057279237, 43.38484848484848, 128.4486873508353, 46.45107398568019, 94.61336515513126, 96.32458233890215, 46.90776699029126, 21.31980906921241, 17.8019093078759, 13.32352941176471, 14.30787589498807, 46.60377358490566, 58.0, 16.83293556085919, 19.78758949880668, 68.82100238663485, 161.2028639618138, 28.89260143198091, 22.31980906921241, 14.44666666666667, 38.78520286396181, 9.553699284009546, 16.13365155131265, 337.6897374701671, 15.97852028639618, 107.6587112171838, 52.2673031026253, 39.78758949880668, 52.0071599045346, 26.93317422434368, 537.472553699284, 61.43436754176611, 27.44630071599045, 104.7756563245823, 25.41050119331742, 63.85202863961814, 61.12649164677804, 55.0310262529833, 50.96420047732697, 45.28639618138425, 58.88066825775656, 33.25536992840095, 37.35799522673031, 108.6945107398568, 19.58823529411765, 83.73747016706444, 83.87112171837708, 76.28639618138425, 61.44868735083532, 96.75894988066825, 64.52267303102626, 4.842857142857143, 13.48, 21.0945558739255, 9.308571428571428, 6.608571428571429, 9.242774566473988, 47.11217183770883, 70.54653937947494, 53.59808612440192, 80.16467780429595, 335.0572792362768, 78.00980392156863, 10.07536231884058, 21.98329355608592, 69.23866348448688, 14.97938144329897, 12.52083333333333, 130.0930787589499, 68.82100238663485, 46.43989071038251, 40.76610978520286, 80.51312649164677, 53.0763723150358, 19.82577565632458, 18.6491646778043, 45.83532219570406, 51.51551312649165, 59.48448687350835, 47.02863961813843, 51.1527446300716, 50.71028037383178, 13.66587112171838, 86.51789976133652, 18.95942720763723, 15.3890214797136, 53.05489260143198, 9.350835322195705, 13.13603818615752, 15.618138424821, 17.71599045346062, 16.34128878281623, 25.36276849642005, 31.49164677804296, 61.59523809523809, 80.18615751789976, 7.384248210023866, 7.60381861575179, 62.66825775656324, 121.8019093078759, 157.9570405727924, 104.8639618138425], \"coloraxis\": \"coloraxis\", \"size\": [81.76610978520286, 96.83532219570405, 66.0381861575179, 53.20763723150358, 39.36754176610979, 86.48210023866348, 12.75417661097852, 26.34042553191489, 97.6109785202864, 52.12918660287081, 26.38663484486873, 48.90710382513661, 47.56830601092896, 31.01670644391408, 81.33890214797135, 93.6945107398568, 18.35560859188544, 45.43198090692124, 36.86873508353222, 17.47971360381862, 33.21479713603819, 12.73508353221957, 48.94258373205741, 72.62291169451073, 6.799522673031026, 77.6563245823389, 74.76133651551312, 35.19607843137255, 63.12887828162291, 47.79952267303103, 35.69928400954654, 28.47971360381862, 59.20763723150358, 109.9090909090909, 12.36038186157518, 38.64916467780429, 94.6109785202864, 23.42243436754176, 43.70520231213873, 40.07159904534606, 49.44391408114559, 48.12887828162291, 48.36515513126491, 60.23866348448687, 34.15751789976134, 27.93556085918854, 43.71121718377088, 32.74463007159905, 44.05966587112172, 56.78758949880668, 71.08722741433021, 17.89473684210526, 89.4892601431981, 284.3412887828162, 33.31264916467781, 25.48325358851675, 14.93317422434368, 13.381861575179, 32.84964200477327, 12.12649164677804, 44.97601918465228, 80.91169451073986, 60.05966587112172, 97.90453460620525, 42.58949880668258, 17.2, 182.5011933174224, 105.9713603818616, 76.9307875894988, 13.42959427207637, 74.26968973747017, 138.5178997613365, 76.0692124105012, 74.67303102625299, 43.95704057279237, 43.38484848484848, 128.4486873508353, 46.45107398568019, 94.61336515513126, 96.32458233890215, 46.90776699029126, 21.31980906921241, 17.8019093078759, 13.32352941176471, 14.30787589498807, 46.60377358490566, 58.0, 16.83293556085919, 19.78758949880668, 68.82100238663485, 161.2028639618138, 28.89260143198091, 22.31980906921241, 14.44666666666667, 38.78520286396181, 9.553699284009546, 16.13365155131265, 337.6897374701671, 15.97852028639618, 107.6587112171838, 52.2673031026253, 39.78758949880668, 52.0071599045346, 26.93317422434368, 537.472553699284, 61.43436754176611, 27.44630071599045, 104.7756563245823, 25.41050119331742, 63.85202863961814, 61.12649164677804, 55.0310262529833, 50.96420047732697, 45.28639618138425, 58.88066825775656, 33.25536992840095, 37.35799522673031, 108.6945107398568, 19.58823529411765, 83.73747016706444, 83.87112171837708, 76.28639618138425, 61.44868735083532, 96.75894988066825, 64.52267303102626, 4.842857142857143, 13.48, 21.0945558739255, 9.308571428571428, 6.608571428571429, 9.242774566473988, 47.11217183770883, 70.54653937947494, 53.59808612440192, 80.16467780429595, 335.0572792362768, 78.00980392156863, 10.07536231884058, 21.98329355608592, 69.23866348448688, 14.97938144329897, 12.52083333333333, 130.0930787589499, 68.82100238663485, 46.43989071038251, 40.76610978520286, 80.51312649164677, 53.0763723150358, 19.82577565632458, 18.6491646778043, 45.83532219570406, 51.51551312649165, 59.48448687350835, 47.02863961813843, 51.1527446300716, 50.71028037383178, 13.66587112171838, 86.51789976133652, 18.95942720763723, 15.3890214797136, 53.05489260143198, 9.350835322195705, 13.13603818615752, 15.618138424821, 17.71599045346062, 16.34128878281623, 25.36276849642005, 31.49164677804296, 61.59523809523809, 80.18615751789976, 7.384248210023866, 7.60381861575179, 62.66825775656324, 121.8019093078759, 157.9570405727924, 104.8639618138425], \"sizemode\": \"area\", \"sizeref\": 0.21498902147971363}, \"mode\": \"markers\", \"name\": \"\", \"showlegend\": false, \"subplot\": \"mapbox\", \"type\": \"scattermapbox\"}],\n",
              "                        {\"coloraxis\": {\"colorbar\": {\"title\": {\"text\": \"Enterococcus\"}}, \"colorscale\": [[0.0, \"#fcffa4\"], [0.1111111111111111, \"#f7d13d\"], [0.2222222222222222, \"#fb9b06\"], [0.3333333333333333, \"#ed6925\"], [0.4444444444444444, \"#cf4446\"], [0.5555555555555556, \"#a52c60\"], [0.6666666666666666, \"#781c6d\"], [0.7777777777777778, \"#4a0c6b\"], [0.8888888888888888, \"#1b0c41\"], [1.0, \"#000004\"]]}, \"height\": 500, \"legend\": {\"itemsizing\": \"constant\", \"tracegroupgap\": 0}, \"mapbox\": {\"center\": {\"lat\": -23.851320909090916, \"lon\": -45.35723900568184}, \"domain\": {\"x\": [0.0, 1.0], \"y\": [0.0, 1.0]}, \"style\": \"open-street-map\", \"zoom\": 8}, \"margin\": {\"b\": 0, \"l\": 0, \"r\": 10, \"t\": 10}, \"template\": {\"data\": {\"bar\": [{\"error_x\": {\"color\": \"#2a3f5f\"}, \"error_y\": {\"color\": \"#2a3f5f\"}, \"marker\": {\"line\": {\"color\": \"#E5ECF6\", \"width\": 0.5}}, \"type\": \"bar\"}], \"barpolar\": [{\"marker\": {\"line\": {\"color\": \"#E5ECF6\", \"width\": 0.5}}, \"type\": \"barpolar\"}], \"carpet\": [{\"aaxis\": {\"endlinecolor\": \"#2a3f5f\", \"gridcolor\": \"white\", \"linecolor\": \"white\", \"minorgridcolor\": \"white\", \"startlinecolor\": \"#2a3f5f\"}, \"baxis\": {\"endlinecolor\": \"#2a3f5f\", \"gridcolor\": \"white\", \"linecolor\": \"white\", \"minorgridcolor\": \"white\", \"startlinecolor\": \"#2a3f5f\"}, \"type\": \"carpet\"}], \"choropleth\": [{\"colorbar\": {\"outlinewidth\": 0, \"ticks\": \"\"}, \"type\": \"choropleth\"}], \"contour\": [{\"colorbar\": {\"outlinewidth\": 0, \"ticks\": \"\"}, \"colorscale\": [[0.0, \"#0d0887\"], [0.1111111111111111, \"#46039f\"], [0.2222222222222222, \"#7201a8\"], [0.3333333333333333, \"#9c179e\"], [0.4444444444444444, \"#bd3786\"], [0.5555555555555556, \"#d8576b\"], [0.6666666666666666, \"#ed7953\"], [0.7777777777777778, \"#fb9f3a\"], [0.8888888888888888, \"#fdca26\"], [1.0, \"#f0f921\"]], \"type\": \"contour\"}], \"contourcarpet\": [{\"colorbar\": {\"outlinewidth\": 0, \"ticks\": \"\"}, \"type\": \"contourcarpet\"}], \"heatmap\": [{\"colorbar\": {\"outlinewidth\": 0, \"ticks\": \"\"}, \"colorscale\": [[0.0, \"#0d0887\"], [0.1111111111111111, \"#46039f\"], [0.2222222222222222, \"#7201a8\"], [0.3333333333333333, \"#9c179e\"], [0.4444444444444444, \"#bd3786\"], [0.5555555555555556, \"#d8576b\"], [0.6666666666666666, \"#ed7953\"], [0.7777777777777778, \"#fb9f3a\"], [0.8888888888888888, \"#fdca26\"], [1.0, \"#f0f921\"]], \"type\": \"heatmap\"}], \"heatmapgl\": [{\"colorbar\": {\"outlinewidth\": 0, \"ticks\": \"\"}, \"colorscale\": [[0.0, \"#0d0887\"], [0.1111111111111111, \"#46039f\"], [0.2222222222222222, \"#7201a8\"], [0.3333333333333333, \"#9c179e\"], [0.4444444444444444, \"#bd3786\"], [0.5555555555555556, \"#d8576b\"], [0.6666666666666666, \"#ed7953\"], [0.7777777777777778, \"#fb9f3a\"], [0.8888888888888888, \"#fdca26\"], [1.0, \"#f0f921\"]], \"type\": \"heatmapgl\"}], \"histogram\": [{\"marker\": {\"colorbar\": {\"outlinewidth\": 0, \"ticks\": \"\"}}, \"type\": \"histogram\"}], \"histogram2d\": [{\"colorbar\": {\"outlinewidth\": 0, \"ticks\": \"\"}, \"colorscale\": [[0.0, \"#0d0887\"], [0.1111111111111111, \"#46039f\"], [0.2222222222222222, \"#7201a8\"], [0.3333333333333333, \"#9c179e\"], [0.4444444444444444, \"#bd3786\"], [0.5555555555555556, \"#d8576b\"], [0.6666666666666666, \"#ed7953\"], [0.7777777777777778, \"#fb9f3a\"], [0.8888888888888888, \"#fdca26\"], [1.0, \"#f0f921\"]], \"type\": \"histogram2d\"}], \"histogram2dcontour\": [{\"colorbar\": {\"outlinewidth\": 0, \"ticks\": \"\"}, \"colorscale\": [[0.0, \"#0d0887\"], [0.1111111111111111, \"#46039f\"], [0.2222222222222222, \"#7201a8\"], [0.3333333333333333, \"#9c179e\"], [0.4444444444444444, \"#bd3786\"], [0.5555555555555556, \"#d8576b\"], [0.6666666666666666, \"#ed7953\"], [0.7777777777777778, \"#fb9f3a\"], [0.8888888888888888, \"#fdca26\"], [1.0, \"#f0f921\"]], \"type\": \"histogram2dcontour\"}], \"mesh3d\": [{\"colorbar\": {\"outlinewidth\": 0, \"ticks\": \"\"}, \"type\": \"mesh3d\"}], \"parcoords\": [{\"line\": {\"colorbar\": {\"outlinewidth\": 0, \"ticks\": \"\"}}, \"type\": \"parcoords\"}], \"pie\": [{\"automargin\": true, \"type\": \"pie\"}], \"scatter\": [{\"marker\": {\"colorbar\": {\"outlinewidth\": 0, \"ticks\": \"\"}}, \"type\": \"scatter\"}], \"scatter3d\": [{\"line\": {\"colorbar\": {\"outlinewidth\": 0, \"ticks\": \"\"}}, \"marker\": {\"colorbar\": {\"outlinewidth\": 0, \"ticks\": \"\"}}, \"type\": \"scatter3d\"}], \"scattercarpet\": [{\"marker\": {\"colorbar\": {\"outlinewidth\": 0, \"ticks\": \"\"}}, \"type\": \"scattercarpet\"}], \"scattergeo\": [{\"marker\": {\"colorbar\": {\"outlinewidth\": 0, \"ticks\": \"\"}}, \"type\": \"scattergeo\"}], \"scattergl\": [{\"marker\": {\"colorbar\": {\"outlinewidth\": 0, \"ticks\": \"\"}}, \"type\": \"scattergl\"}], \"scattermapbox\": [{\"marker\": {\"colorbar\": {\"outlinewidth\": 0, \"ticks\": \"\"}}, \"type\": \"scattermapbox\"}], \"scatterpolar\": [{\"marker\": {\"colorbar\": {\"outlinewidth\": 0, \"ticks\": \"\"}}, \"type\": \"scatterpolar\"}], \"scatterpolargl\": [{\"marker\": {\"colorbar\": {\"outlinewidth\": 0, \"ticks\": \"\"}}, \"type\": \"scatterpolargl\"}], \"scatterternary\": [{\"marker\": {\"colorbar\": {\"outlinewidth\": 0, \"ticks\": \"\"}}, \"type\": \"scatterternary\"}], \"surface\": [{\"colorbar\": {\"outlinewidth\": 0, \"ticks\": \"\"}, \"colorscale\": [[0.0, \"#0d0887\"], [0.1111111111111111, \"#46039f\"], [0.2222222222222222, \"#7201a8\"], [0.3333333333333333, \"#9c179e\"], [0.4444444444444444, \"#bd3786\"], [0.5555555555555556, \"#d8576b\"], [0.6666666666666666, \"#ed7953\"], [0.7777777777777778, \"#fb9f3a\"], [0.8888888888888888, \"#fdca26\"], [1.0, \"#f0f921\"]], \"type\": \"surface\"}], \"table\": [{\"cells\": {\"fill\": {\"color\": \"#EBF0F8\"}, \"line\": {\"color\": \"white\"}}, \"header\": {\"fill\": {\"color\": \"#C8D4E3\"}, \"line\": {\"color\": \"white\"}}, \"type\": \"table\"}]}, \"layout\": {\"annotationdefaults\": {\"arrowcolor\": \"#2a3f5f\", \"arrowhead\": 0, \"arrowwidth\": 1}, \"coloraxis\": {\"colorbar\": {\"outlinewidth\": 0, \"ticks\": \"\"}}, \"colorscale\": {\"diverging\": [[0, \"#8e0152\"], [0.1, \"#c51b7d\"], [0.2, \"#de77ae\"], [0.3, \"#f1b6da\"], [0.4, \"#fde0ef\"], [0.5, \"#f7f7f7\"], [0.6, \"#e6f5d0\"], [0.7, \"#b8e186\"], [0.8, \"#7fbc41\"], [0.9, \"#4d9221\"], [1, \"#276419\"]], \"sequential\": [[0.0, \"#0d0887\"], [0.1111111111111111, \"#46039f\"], [0.2222222222222222, \"#7201a8\"], [0.3333333333333333, \"#9c179e\"], [0.4444444444444444, \"#bd3786\"], [0.5555555555555556, \"#d8576b\"], [0.6666666666666666, \"#ed7953\"], [0.7777777777777778, \"#fb9f3a\"], [0.8888888888888888, \"#fdca26\"], [1.0, \"#f0f921\"]], \"sequentialminus\": [[0.0, \"#0d0887\"], [0.1111111111111111, \"#46039f\"], [0.2222222222222222, \"#7201a8\"], [0.3333333333333333, \"#9c179e\"], [0.4444444444444444, \"#bd3786\"], [0.5555555555555556, \"#d8576b\"], [0.6666666666666666, \"#ed7953\"], [0.7777777777777778, \"#fb9f3a\"], [0.8888888888888888, \"#fdca26\"], [1.0, \"#f0f921\"]]}, \"colorway\": [\"#636efa\", \"#EF553B\", \"#00cc96\", \"#ab63fa\", \"#FFA15A\", \"#19d3f3\", \"#FF6692\", \"#B6E880\", \"#FF97FF\", \"#FECB52\"], \"font\": {\"color\": \"#2a3f5f\"}, \"geo\": {\"bgcolor\": \"white\", \"lakecolor\": \"white\", \"landcolor\": \"#E5ECF6\", \"showlakes\": true, \"showland\": true, \"subunitcolor\": \"white\"}, \"hoverlabel\": {\"align\": \"left\"}, \"hovermode\": \"closest\", \"mapbox\": {\"style\": \"light\"}, \"paper_bgcolor\": \"white\", \"plot_bgcolor\": \"#E5ECF6\", \"polar\": {\"angularaxis\": {\"gridcolor\": \"white\", \"linecolor\": \"white\", \"ticks\": \"\"}, \"bgcolor\": \"#E5ECF6\", \"radialaxis\": {\"gridcolor\": \"white\", \"linecolor\": \"white\", \"ticks\": \"\"}}, \"scene\": {\"xaxis\": {\"backgroundcolor\": \"#E5ECF6\", \"gridcolor\": \"white\", \"gridwidth\": 2, \"linecolor\": \"white\", \"showbackground\": true, \"ticks\": \"\", \"zerolinecolor\": \"white\"}, \"yaxis\": {\"backgroundcolor\": \"#E5ECF6\", \"gridcolor\": \"white\", \"gridwidth\": 2, \"linecolor\": \"white\", \"showbackground\": true, \"ticks\": \"\", \"zerolinecolor\": \"white\"}, \"zaxis\": {\"backgroundcolor\": \"#E5ECF6\", \"gridcolor\": \"white\", \"gridwidth\": 2, \"linecolor\": \"white\", \"showbackground\": true, \"ticks\": \"\", \"zerolinecolor\": \"white\"}}, \"shapedefaults\": {\"line\": {\"color\": \"#2a3f5f\"}}, \"ternary\": {\"aaxis\": {\"gridcolor\": \"white\", \"linecolor\": \"white\", \"ticks\": \"\"}, \"baxis\": {\"gridcolor\": \"white\", \"linecolor\": \"white\", \"ticks\": \"\"}, \"bgcolor\": \"#E5ECF6\", \"caxis\": {\"gridcolor\": \"white\", \"linecolor\": \"white\", \"ticks\": \"\"}}, \"title\": {\"x\": 0.05}, \"xaxis\": {\"automargin\": true, \"gridcolor\": \"white\", \"linecolor\": \"white\", \"ticks\": \"\", \"title\": {\"standoff\": 15}, \"zerolinecolor\": \"white\", \"zerolinewidth\": 2}, \"yaxis\": {\"automargin\": true, \"gridcolor\": \"white\", \"linecolor\": \"white\", \"ticks\": \"\", \"title\": {\"standoff\": 15}, \"zerolinecolor\": \"white\", \"zerolinewidth\": 2}}}},\n",
              "                        {\"responsive\": true}\n",
              "                    ).then(function(){\n",
              "                            \n",
              "var gd = document.getElementById('b294816c-48d4-4dd5-9a67-adb048435b0b');\n",
              "var x = new MutationObserver(function (mutations, observer) {{\n",
              "        var display = window.getComputedStyle(gd).display;\n",
              "        if (!display || display === 'none') {{\n",
              "            console.log([gd, 'removed!']);\n",
              "            Plotly.purge(gd);\n",
              "            observer.disconnect();\n",
              "        }}\n",
              "}});\n",
              "\n",
              "// Listen for the removal of the full notebook cells\n",
              "var notebookContainer = gd.closest('#notebook-container');\n",
              "if (notebookContainer) {{\n",
              "    x.observe(notebookContainer, {childList: true});\n",
              "}}\n",
              "\n",
              "// Listen for the clearing of the current output cell\n",
              "var outputEl = gd.closest('.output');\n",
              "if (outputEl) {{\n",
              "    x.observe(outputEl, {childList: true});\n",
              "}}\n",
              "\n",
              "                        })\n",
              "                };\n",
              "                \n",
              "            </script>\n",
              "        </div>\n",
              "</body>\n",
              "</html>"
            ]
          },
          "metadata": {
            "tags": []
          }
        }
      ]
    },
    {
      "cell_type": "markdown",
      "metadata": {
        "id": "cJXsRr8vh3DU",
        "colab_type": "text"
      },
      "source": [
        "Just another type of graph"
      ]
    },
    {
      "cell_type": "code",
      "metadata": {
        "id": "v1GDnWCal95y",
        "colab_type": "code",
        "colab": {
          "base_uri": "https://localhost:8080/",
          "height": 517
        },
        "outputId": "ac6b7d70-e78c-4f42-a6e2-afaafd3ce2aa"
      },
      "source": [
        "fig4 = px.scatter_mapbox(latlon, lat=\"lat\", lon=\"lon\", hover_name=\"City\", size='Enterococcus', color='Enterococcus', size_max= 50,\n",
        "                        color_continuous_scale= px.colors.sequential.solar_r, zoom=8, height=500)\n",
        "fig4.update_layout(\n",
        "    mapbox_style=\"white-bg\",\n",
        "    mapbox_layers=[\n",
        "        {\n",
        "            \"below\": 'traces',\n",
        "            \"sourcetype\": \"raster\",\n",
        "            \"source\": [\n",
        "                \"https://basemap.nationalmap.gov/arcgis/rest/services/USGSImageryOnly/MapServer/tile/{z}/{y}/{x}\"\n",
        "            ]\n",
        "        }\n",
        "      ])\n",
        "fig4.update_layout(margin={\"r\":0,\"t\":0,\"l\":0,\"b\":0})\n",
        "fig4.show()"
      ],
      "execution_count": null,
      "outputs": [
        {
          "output_type": "display_data",
          "data": {
            "text/html": [
              "<html>\n",
              "<head><meta charset=\"utf-8\" /></head>\n",
              "<body>\n",
              "    <div>\n",
              "            <script src=\"https://cdnjs.cloudflare.com/ajax/libs/mathjax/2.7.5/MathJax.js?config=TeX-AMS-MML_SVG\"></script><script type=\"text/javascript\">if (window.MathJax) {MathJax.Hub.Config({SVG: {font: \"STIX-Web\"}});}</script>\n",
              "                <script type=\"text/javascript\">window.PlotlyConfig = {MathJaxConfig: 'local'};</script>\n",
              "        <script src=\"https://cdn.plot.ly/plotly-latest.min.js\"></script>    \n",
              "            <div id=\"f56469c4-11ee-43da-8e77-7aefdd136fcf\" class=\"plotly-graph-div\" style=\"height:500px; width:100%;\"></div>\n",
              "            <script type=\"text/javascript\">\n",
              "                \n",
              "                    window.PLOTLYENV=window.PLOTLYENV || {};\n",
              "                    \n",
              "                if (document.getElementById(\"f56469c4-11ee-43da-8e77-7aefdd136fcf\")) {\n",
              "                    Plotly.newPlot(\n",
              "                        'f56469c4-11ee-43da-8e77-7aefdd136fcf',\n",
              "                        [{\"hoverlabel\": {\"namelength\": 0}, \"hovertemplate\": \"<b>%{hovertext}</b><br><br>Enterococcus=%{marker.color}<br>lat=%{lat}<br>lon=%{lon}\", \"hovertext\": [\"MONGAGU\\u00c1\", \"SANTOS\", \"ILHABELA\", \"S\\u00c3O SEBASTI\\u00c3O\", \"GUARUJ\\u00c1\", \"PRAIA GRANDE\", \"S\\u00c3O SEBASTI\\u00c3O\", \"ILHA COMPRIDA\", \"PRAIA GRANDE\", \"ITANHA\\u00c9M\", \"S\\u00c3O SEBASTI\\u00c3O\", \"ILHABELA\", \"ILHABELA\", \"S\\u00c3O SEBASTI\\u00c3O\", \"PRAIA GRANDE\", \"SANTOS\", \"BERTIOGA\", \"S\\u00c3O SEBASTI\\u00c3O\", \"S\\u00c3O SEBASTI\\u00c3O\", \"BERTIOGA\", \"S\\u00c3O SEBASTI\\u00c3O\", \"S\\u00c3O SEBASTI\\u00c3O\", \"ITANHA\\u00c9M\", \"PRAIA GRANDE\", \"CARAGUATATUBA\", \"MONGAGU\\u00c1\", \"CARAGUATATUBA\", \"ILHA COMPRIDA\", \"ITANHA\\u00c9M\", \"S\\u00c3O SEBASTI\\u00c3O\", \"CARAGUATATUBA\", \"ILHABELA\", \"S\\u00c3O SEBASTI\\u00c3O\", \"IGUAPE\", \"UBATUBA\", \"UBATUBA\", \"SANTOS\", \"S\\u00c3O SEBASTI\\u00c3O\", \"ILHABELA\", \"UBATUBA\", \"GUARUJ\\u00c1\", \"GUARUJ\\u00c1\", \"GUARUJ\\u00c1\", \"GUARUJ\\u00c1\", \"BERTIOGA\", \"BERTIOGA\", \"BERTIOGA\", \"BERTIOGA\", \"ITANHA\\u00c9M\", \"ILHABELA\", \"MONGAGU\\u00c1\", \"UBATUBA\", \"SANTOS\", \"S\\u00c3O VICENTE\", \"ILHABELA\", \"S\\u00c3O SEBASTI\\u00c3O\", \"UBATUBA\", \"S\\u00c3O SEBASTI\\u00c3O\", \"GUARUJ\\u00c1\", \"BERTIOGA\", \"PERU\\u00cdBE\", \"PRAIA GRANDE\", \"ILHABELA\", \"CARAGUATATUBA\", \"UBATUBA\", \"GUARUJ\\u00c1\", \"UBATUBA\", \"ILHABELA\", \"UBATUBA\", \"UBATUBA\", \"MONGAGU\\u00c1\", \"ILHABELA\", \"S\\u00c3O VICENTE\", \"MONGAGU\\u00c1\", \"ITANHA\\u00c9M\", \"ITANHA\\u00c9M\", \"PRAIA GRANDE\", \"ITANHA\\u00c9M\", \"SANTOS\", \"SANTOS\", \"ILHABELA\", \"S\\u00c3O SEBASTI\\u00c3O\", \"S\\u00c3O SEBASTI\\u00c3O\", \"IGUAPE\", \"S\\u00c3O SEBASTI\\u00c3O\", \"CARAGUATATUBA\", \"UBATUBA\", \"UBATUBA\", \"UBATUBA\", \"UBATUBA\", \"PRAIA GRANDE\", \"UBATUBA\", \"S\\u00c3O SEBASTI\\u00c3O\", \"S\\u00c3O SEBASTI\\u00c3O\", \"CARAGUATATUBA\", \"CARAGUATATUBA\", \"CARAGUATATUBA\", \"S\\u00c3O VICENTE\", \"CARAGUATATUBA\", \"PRAIA GRANDE\", \"CARAGUATATUBA\", \"CARAGUATATUBA\", \"ITANHA\\u00c9M\", \"S\\u00c3O SEBASTI\\u00c3O\", \"GUARUJ\\u00c1\", \"ILHABELA\", \"UBATUBA\", \"UBATUBA\", \"GUARUJ\\u00c1\", \"PERU\\u00cdBE\", \"PERU\\u00cdBE\", \"PERU\\u00cdBE\", \"PERU\\u00cdBE\", \"UBATUBA\", \"ILHABELA\", \"GUARUJ\\u00c1\", \"GUARUJ\\u00c1\", \"SANTOS\", \"ILHA COMPRIDA\", \"S\\u00c3O SEBASTI\\u00c3O\", \"ILHABELA\", \"S\\u00c3O SEBASTI\\u00c3O\", \"CARAGUATATUBA\", \"S\\u00c3O VICENTE\", \"S\\u00c3O VICENTE\", \"ILHA ANCHIETA\", \"ILHA ANCHIETA\", \"ILHA ANCHIETA\", \"ILHA ANCHIETA\", \"ILHA ANCHIETA\", \"ILHA ANCHIETA\", \"ITANHA\\u00c9M\", \"CARAGUATATUBA\", \"PERU\\u00cdBE\", \"S\\u00c3O SEBASTI\\u00c3O\", \"S\\u00c3O VICENTE\", \"ILHA COMPRIDA\", \"ILHA ANCHIETA\", \"S\\u00c3O SEBASTI\\u00c3O\", \"S\\u00c3O SEBASTI\\u00c3O\", \"UBATUBA\", \"UBATUBA\", \"PRAIA GRANDE\", \"UBATUBA\", \"CUBAT\\u00c3O\", \"ILHABELA\", \"MONGAGU\\u00c1\", \"UBATUBA\", \"S\\u00c3O SEBASTI\\u00c3O\", \"UBATUBA\", \"S\\u00c3O SEBASTI\\u00c3O\", \"ILHABELA\", \"ILHABELA\", \"ITANHA\\u00c9M\", \"ITANHA\\u00c9M\", \"ITANHA\\u00c9M\", \"UBATUBA\", \"S\\u00c3O SEBASTI\\u00c3O\", \"BERTIOGA\", \"BERTIOGA\", \"CARAGUATATUBA\", \"CARAGUATATUBA\", \"UBATUBA\", \"GUARUJ\\u00c1\", \"UBATUBA\", \"S\\u00c3O SEBASTI\\u00c3O\", \"S\\u00c3O SEBASTI\\u00c3O\", \"S\\u00c3O SEBASTI\\u00c3O\", \"ILHABELA\", \"MONGAGU\\u00c1\", \"UBATUBA\", \"UBATUBA\", \"ILHABELA\", \"PRAIA GRANDE\", \"PRAIA GRANDE\", \"PRAIA GRANDE\"], \"lat\": [-24.133046, -23.983527, -23.738485, -23.771380999999998, -24.006466, -24.019328, -23.77429, -24.737963, -24.072369000000002, -24.249423999999998, -23.827868, -23.763846, -23.763846, -23.78446, -24.013941, -23.973568, -23.756201, -23.760312, -23.757804, -23.790541, -23.777998999999998, -23.777615, -24.152374, -24.015559, -23.608999, -24.098001, -23.624328, -24.744248000000002, -24.185253, -23.729799, -23.577288, -23.867283, -23.786113, -24.67054, -23.498578, -23.494872, -23.977132, -23.764135999999997, -23.790426999999998, -23.493195, -23.985775, -23.990865, -23.988386, -23.987515, -23.8313, -23.813357999999997, -23.847014, -23.81765, -24.173207, -23.845306, -24.139343, -23.389035999999997, -23.970164999999998, -23.970022, -23.85802, -23.821492000000003, -23.472366, -23.824539, -24.018596, -23.773476000000002, -24.368758, -24.015526, -23.829672, -23.637021, -23.43615, -23.903098999999997, -23.458133, -23.802643, -23.44874, -23.403253, -24.089374, -23.79952, -23.971021, -24.121742, -24.208792000000003, -24.229349, -24.080436, -24.222888, -23.968626999999998, -23.970098, -23.854481, -23.767158, -23.768545, -24.647953, -23.765214999999998, -23.622419, -23.379732, -23.519753, -23.519614999999998, -23.503331, -24.042291, -23.536639, -23.791428, -23.791643, -23.624535, -23.588622, -23.582259, -23.976175, -23.573741000000002, -24.030794, -23.670264000000003, -23.650353, -24.128857999999997, -23.803971, -23.934978, -23.808563, -23.418982999999997, -23.489133, -23.963434, -24.325013000000002, -24.310607, -24.296701000000002, -24.281762, -23.377566, -23.741899, -23.997232, -24.000474, -23.991472, -25.044104, -23.779237, -23.844266, -23.793864000000003, -23.696385, -23.971382000000002, -23.977014999999998, -23.537944, -23.509353, -23.536476999999998, -23.538995, -23.538946, -23.546333999999998, -24.193167000000003, -23.630983999999998, -24.349697, -23.744841, -23.978378, -24.710732, -23.534710999999998, -23.772043, -23.771342999999998, -23.384003, -23.556889, -24.016284, -23.407161, -23.895315, -23.78557, -24.118795000000002, -23.493814, -23.811134, -23.538809, -23.774097, -23.751342, -23.755460999999997, -24.195128, -24.165926000000002, -24.166295, -23.508958, -23.76006, -23.795838, -23.791852, -23.577607, -23.573701, -23.464838, -24.014026, -23.489781, -23.833985000000002, -23.817607000000002, -23.762278, -23.870533, -24.131209, -23.463369, -23.416557, -23.758947, -24.051786, -24.036973, -24.024084], \"legendgroup\": \"\", \"lon\": [-46.691516, -46.31094, -45.345434999999995, -45.402685999999996, -46.268172, -46.442784, -45.672622, -47.528492, -46.570640999999995, -46.894345, -45.434893, -45.349263, -45.349263, -45.62962, -46.413021, -46.324746999999995, -45.833563, -45.802851000000004, -45.851839, -45.988253, -45.651571000000004, -45.644069, -46.725252000000005, -46.403686, -45.349304, -46.623357, -45.408379, -47.539786, -46.785077, -45.399691, -45.31393, -45.432388, -45.398496, -47.418915000000005, -45.1441, -45.172711, -46.318056, -45.78151, -45.363673, -45.08849, -46.220815, -46.244064, -46.205020000000005, -46.231495, -46.110602, -46.063059, -46.132051000000004, -46.07898, -46.763148, -45.408762, -46.702528, -44.971828, -46.335862, -46.381378999999995, -45.416627000000005, -45.410413, -45.066643, -45.452529999999996, -46.290921000000004, -45.938697, -47.011437, -46.426617, -45.392524, -45.419907, -45.069613000000004, -46.152934, -45.057573, -45.36509, -45.066103999999996, -45.00504, -46.605534000000006, -45.365192, -46.362768, -46.670303000000004, -46.830252, -46.862876, -46.587668, -46.853007, -46.348269, -46.342098, -45.414242, -45.742841999999996, -45.731089000000004, -47.37395, -45.785903000000005, -45.356729, -44.95926, -45.198636, -45.199013, -45.135247, -46.505065, -45.227676, -45.566646, -45.561454, -45.378536, -45.332778999999995, -45.324925, -46.371715, -45.302284, -46.476256, 45.431228999999995, -45.426472, -46.683758000000005, -45.552044, -46.180913000000004, -45.365782, -45.060119, -45.104119, -46.18444, -46.994907, -46.979482, -46.962687, -46.943256, -44.838203, -45.348960999999996, -46.255401, -46.26246, -46.30285, -47.886452, -45.398527, -45.405854, -45.399183, -45.429499, -46.368412, -46.370477, -45.075263, -45.081182, -45.062416999999996, -45.06511, -45.068056, -45.077677, -46.796193, -45.391034999999995, -47.000766999999996, -45.407524, -46.384932, -47.543434000000005, -45.045419, -45.714508, -45.711993, -44.946286, -45.219965, -46.430043, -45.010261, -46.400311, -45.359075, -46.665226000000004, -45.102752, -45.540712, -45.228378, -45.696218, -45.349088, -45.350232, -46.801208, -46.749403, -46.750275, -45.132738, -45.409339, -45.993376, -45.991659000000006, -45.276299, -45.291173, -45.057037, -46.272303, -45.074659000000004, -45.510978, -45.534657, -45.765915, -45.435234, -46.687635, -45.048928000000004, -45.036194, -45.351071999999995, -46.525878999999996, -46.492125, -46.457029], \"marker\": {\"color\": [81.76610978520286, 96.83532219570405, 66.0381861575179, 53.20763723150358, 39.36754176610979, 86.48210023866348, 12.75417661097852, 26.34042553191489, 97.6109785202864, 52.12918660287081, 26.38663484486873, 48.90710382513661, 47.56830601092896, 31.01670644391408, 81.33890214797135, 93.6945107398568, 18.35560859188544, 45.43198090692124, 36.86873508353222, 17.47971360381862, 33.21479713603819, 12.73508353221957, 48.94258373205741, 72.62291169451073, 6.799522673031026, 77.6563245823389, 74.76133651551312, 35.19607843137255, 63.12887828162291, 47.79952267303103, 35.69928400954654, 28.47971360381862, 59.20763723150358, 109.9090909090909, 12.36038186157518, 38.64916467780429, 94.6109785202864, 23.42243436754176, 43.70520231213873, 40.07159904534606, 49.44391408114559, 48.12887828162291, 48.36515513126491, 60.23866348448687, 34.15751789976134, 27.93556085918854, 43.71121718377088, 32.74463007159905, 44.05966587112172, 56.78758949880668, 71.08722741433021, 17.89473684210526, 89.4892601431981, 284.3412887828162, 33.31264916467781, 25.48325358851675, 14.93317422434368, 13.381861575179, 32.84964200477327, 12.12649164677804, 44.97601918465228, 80.91169451073986, 60.05966587112172, 97.90453460620525, 42.58949880668258, 17.2, 182.5011933174224, 105.9713603818616, 76.9307875894988, 13.42959427207637, 74.26968973747017, 138.5178997613365, 76.0692124105012, 74.67303102625299, 43.95704057279237, 43.38484848484848, 128.4486873508353, 46.45107398568019, 94.61336515513126, 96.32458233890215, 46.90776699029126, 21.31980906921241, 17.8019093078759, 13.32352941176471, 14.30787589498807, 46.60377358490566, 58.0, 16.83293556085919, 19.78758949880668, 68.82100238663485, 161.2028639618138, 28.89260143198091, 22.31980906921241, 14.44666666666667, 38.78520286396181, 9.553699284009546, 16.13365155131265, 337.6897374701671, 15.97852028639618, 107.6587112171838, 52.2673031026253, 39.78758949880668, 52.0071599045346, 26.93317422434368, 537.472553699284, 61.43436754176611, 27.44630071599045, 104.7756563245823, 25.41050119331742, 63.85202863961814, 61.12649164677804, 55.0310262529833, 50.96420047732697, 45.28639618138425, 58.88066825775656, 33.25536992840095, 37.35799522673031, 108.6945107398568, 19.58823529411765, 83.73747016706444, 83.87112171837708, 76.28639618138425, 61.44868735083532, 96.75894988066825, 64.52267303102626, 4.842857142857143, 13.48, 21.0945558739255, 9.308571428571428, 6.608571428571429, 9.242774566473988, 47.11217183770883, 70.54653937947494, 53.59808612440192, 80.16467780429595, 335.0572792362768, 78.00980392156863, 10.07536231884058, 21.98329355608592, 69.23866348448688, 14.97938144329897, 12.52083333333333, 130.0930787589499, 68.82100238663485, 46.43989071038251, 40.76610978520286, 80.51312649164677, 53.0763723150358, 19.82577565632458, 18.6491646778043, 45.83532219570406, 51.51551312649165, 59.48448687350835, 47.02863961813843, 51.1527446300716, 50.71028037383178, 13.66587112171838, 86.51789976133652, 18.95942720763723, 15.3890214797136, 53.05489260143198, 9.350835322195705, 13.13603818615752, 15.618138424821, 17.71599045346062, 16.34128878281623, 25.36276849642005, 31.49164677804296, 61.59523809523809, 80.18615751789976, 7.384248210023866, 7.60381861575179, 62.66825775656324, 121.8019093078759, 157.9570405727924, 104.8639618138425], \"coloraxis\": \"coloraxis\", \"size\": [81.76610978520286, 96.83532219570405, 66.0381861575179, 53.20763723150358, 39.36754176610979, 86.48210023866348, 12.75417661097852, 26.34042553191489, 97.6109785202864, 52.12918660287081, 26.38663484486873, 48.90710382513661, 47.56830601092896, 31.01670644391408, 81.33890214797135, 93.6945107398568, 18.35560859188544, 45.43198090692124, 36.86873508353222, 17.47971360381862, 33.21479713603819, 12.73508353221957, 48.94258373205741, 72.62291169451073, 6.799522673031026, 77.6563245823389, 74.76133651551312, 35.19607843137255, 63.12887828162291, 47.79952267303103, 35.69928400954654, 28.47971360381862, 59.20763723150358, 109.9090909090909, 12.36038186157518, 38.64916467780429, 94.6109785202864, 23.42243436754176, 43.70520231213873, 40.07159904534606, 49.44391408114559, 48.12887828162291, 48.36515513126491, 60.23866348448687, 34.15751789976134, 27.93556085918854, 43.71121718377088, 32.74463007159905, 44.05966587112172, 56.78758949880668, 71.08722741433021, 17.89473684210526, 89.4892601431981, 284.3412887828162, 33.31264916467781, 25.48325358851675, 14.93317422434368, 13.381861575179, 32.84964200477327, 12.12649164677804, 44.97601918465228, 80.91169451073986, 60.05966587112172, 97.90453460620525, 42.58949880668258, 17.2, 182.5011933174224, 105.9713603818616, 76.9307875894988, 13.42959427207637, 74.26968973747017, 138.5178997613365, 76.0692124105012, 74.67303102625299, 43.95704057279237, 43.38484848484848, 128.4486873508353, 46.45107398568019, 94.61336515513126, 96.32458233890215, 46.90776699029126, 21.31980906921241, 17.8019093078759, 13.32352941176471, 14.30787589498807, 46.60377358490566, 58.0, 16.83293556085919, 19.78758949880668, 68.82100238663485, 161.2028639618138, 28.89260143198091, 22.31980906921241, 14.44666666666667, 38.78520286396181, 9.553699284009546, 16.13365155131265, 337.6897374701671, 15.97852028639618, 107.6587112171838, 52.2673031026253, 39.78758949880668, 52.0071599045346, 26.93317422434368, 537.472553699284, 61.43436754176611, 27.44630071599045, 104.7756563245823, 25.41050119331742, 63.85202863961814, 61.12649164677804, 55.0310262529833, 50.96420047732697, 45.28639618138425, 58.88066825775656, 33.25536992840095, 37.35799522673031, 108.6945107398568, 19.58823529411765, 83.73747016706444, 83.87112171837708, 76.28639618138425, 61.44868735083532, 96.75894988066825, 64.52267303102626, 4.842857142857143, 13.48, 21.0945558739255, 9.308571428571428, 6.608571428571429, 9.242774566473988, 47.11217183770883, 70.54653937947494, 53.59808612440192, 80.16467780429595, 335.0572792362768, 78.00980392156863, 10.07536231884058, 21.98329355608592, 69.23866348448688, 14.97938144329897, 12.52083333333333, 130.0930787589499, 68.82100238663485, 46.43989071038251, 40.76610978520286, 80.51312649164677, 53.0763723150358, 19.82577565632458, 18.6491646778043, 45.83532219570406, 51.51551312649165, 59.48448687350835, 47.02863961813843, 51.1527446300716, 50.71028037383178, 13.66587112171838, 86.51789976133652, 18.95942720763723, 15.3890214797136, 53.05489260143198, 9.350835322195705, 13.13603818615752, 15.618138424821, 17.71599045346062, 16.34128878281623, 25.36276849642005, 31.49164677804296, 61.59523809523809, 80.18615751789976, 7.384248210023866, 7.60381861575179, 62.66825775656324, 121.8019093078759, 157.9570405727924, 104.8639618138425], \"sizemode\": \"area\", \"sizeref\": 0.21498902147971363}, \"mode\": \"markers\", \"name\": \"\", \"showlegend\": false, \"subplot\": \"mapbox\", \"type\": \"scattermapbox\"}],\n",
              "                        {\"coloraxis\": {\"colorbar\": {\"title\": {\"text\": \"Enterococcus\"}}, \"colorscale\": [[0.0, \"rgb(224, 253, 74)\"], [0.09090909090909091, \"rgb(222, 222, 59)\"], [0.18181818181818182, \"rgb(217, 192, 44)\"], [0.2727272727272727, \"rgb(209, 164, 32)\"], [0.36363636363636365, \"rgb(199, 137, 22)\"], [0.45454545454545453, \"rgb(188, 111, 19)\"], [0.5454545454545454, \"rgb(174, 88, 20)\"], [0.6363636363636364, \"rgb(157, 66, 25)\"], [0.7272727272727273, \"rgb(135, 47, 32)\"], [0.8181818181818182, \"rgb(108, 36, 36)\"], [0.9090909090909091, \"rgb(79, 28, 33)\"], [1.0, \"rgb(51, 19, 23)\"]]}, \"height\": 500, \"legend\": {\"itemsizing\": \"constant\", \"tracegroupgap\": 0}, \"mapbox\": {\"center\": {\"lat\": -23.851320909090916, \"lon\": -45.35723900568184}, \"domain\": {\"x\": [0.0, 1.0], \"y\": [0.0, 1.0]}, \"layers\": [{\"below\": \"traces\", \"source\": [\"https://basemap.nationalmap.gov/arcgis/rest/services/USGSImageryOnly/MapServer/tile/{z}/{y}/{x}\"], \"sourcetype\": \"raster\"}], \"style\": \"white-bg\", \"zoom\": 8}, \"margin\": {\"b\": 0, \"l\": 0, \"r\": 0, \"t\": 0}, \"template\": {\"data\": {\"bar\": [{\"error_x\": {\"color\": \"#2a3f5f\"}, \"error_y\": {\"color\": \"#2a3f5f\"}, \"marker\": {\"line\": {\"color\": \"#E5ECF6\", \"width\": 0.5}}, \"type\": \"bar\"}], \"barpolar\": [{\"marker\": {\"line\": {\"color\": \"#E5ECF6\", \"width\": 0.5}}, \"type\": \"barpolar\"}], \"carpet\": [{\"aaxis\": {\"endlinecolor\": \"#2a3f5f\", \"gridcolor\": \"white\", \"linecolor\": \"white\", \"minorgridcolor\": \"white\", \"startlinecolor\": \"#2a3f5f\"}, \"baxis\": {\"endlinecolor\": \"#2a3f5f\", \"gridcolor\": \"white\", \"linecolor\": \"white\", \"minorgridcolor\": \"white\", \"startlinecolor\": \"#2a3f5f\"}, \"type\": \"carpet\"}], \"choropleth\": [{\"colorbar\": {\"outlinewidth\": 0, \"ticks\": \"\"}, \"type\": \"choropleth\"}], \"contour\": [{\"colorbar\": {\"outlinewidth\": 0, \"ticks\": \"\"}, \"colorscale\": [[0.0, \"#0d0887\"], [0.1111111111111111, \"#46039f\"], [0.2222222222222222, \"#7201a8\"], [0.3333333333333333, \"#9c179e\"], [0.4444444444444444, \"#bd3786\"], [0.5555555555555556, \"#d8576b\"], [0.6666666666666666, \"#ed7953\"], [0.7777777777777778, \"#fb9f3a\"], [0.8888888888888888, \"#fdca26\"], [1.0, \"#f0f921\"]], \"type\": \"contour\"}], \"contourcarpet\": [{\"colorbar\": {\"outlinewidth\": 0, \"ticks\": \"\"}, \"type\": \"contourcarpet\"}], \"heatmap\": [{\"colorbar\": {\"outlinewidth\": 0, \"ticks\": \"\"}, \"colorscale\": [[0.0, \"#0d0887\"], [0.1111111111111111, \"#46039f\"], [0.2222222222222222, \"#7201a8\"], [0.3333333333333333, \"#9c179e\"], [0.4444444444444444, \"#bd3786\"], [0.5555555555555556, \"#d8576b\"], [0.6666666666666666, \"#ed7953\"], [0.7777777777777778, \"#fb9f3a\"], [0.8888888888888888, \"#fdca26\"], [1.0, \"#f0f921\"]], \"type\": \"heatmap\"}], \"heatmapgl\": [{\"colorbar\": {\"outlinewidth\": 0, \"ticks\": \"\"}, \"colorscale\": [[0.0, \"#0d0887\"], [0.1111111111111111, \"#46039f\"], [0.2222222222222222, \"#7201a8\"], [0.3333333333333333, \"#9c179e\"], [0.4444444444444444, \"#bd3786\"], [0.5555555555555556, \"#d8576b\"], [0.6666666666666666, \"#ed7953\"], [0.7777777777777778, \"#fb9f3a\"], [0.8888888888888888, \"#fdca26\"], [1.0, \"#f0f921\"]], \"type\": \"heatmapgl\"}], \"histogram\": [{\"marker\": {\"colorbar\": {\"outlinewidth\": 0, \"ticks\": \"\"}}, \"type\": \"histogram\"}], \"histogram2d\": [{\"colorbar\": {\"outlinewidth\": 0, \"ticks\": \"\"}, \"colorscale\": [[0.0, \"#0d0887\"], [0.1111111111111111, \"#46039f\"], [0.2222222222222222, \"#7201a8\"], [0.3333333333333333, \"#9c179e\"], [0.4444444444444444, \"#bd3786\"], [0.5555555555555556, \"#d8576b\"], [0.6666666666666666, \"#ed7953\"], [0.7777777777777778, \"#fb9f3a\"], [0.8888888888888888, \"#fdca26\"], [1.0, \"#f0f921\"]], \"type\": \"histogram2d\"}], \"histogram2dcontour\": [{\"colorbar\": {\"outlinewidth\": 0, \"ticks\": \"\"}, \"colorscale\": [[0.0, \"#0d0887\"], [0.1111111111111111, \"#46039f\"], [0.2222222222222222, \"#7201a8\"], [0.3333333333333333, \"#9c179e\"], [0.4444444444444444, \"#bd3786\"], [0.5555555555555556, \"#d8576b\"], [0.6666666666666666, \"#ed7953\"], [0.7777777777777778, \"#fb9f3a\"], [0.8888888888888888, \"#fdca26\"], [1.0, \"#f0f921\"]], \"type\": \"histogram2dcontour\"}], \"mesh3d\": [{\"colorbar\": {\"outlinewidth\": 0, \"ticks\": \"\"}, \"type\": \"mesh3d\"}], \"parcoords\": [{\"line\": {\"colorbar\": {\"outlinewidth\": 0, \"ticks\": \"\"}}, \"type\": \"parcoords\"}], \"pie\": [{\"automargin\": true, \"type\": \"pie\"}], \"scatter\": [{\"marker\": {\"colorbar\": {\"outlinewidth\": 0, \"ticks\": \"\"}}, \"type\": \"scatter\"}], \"scatter3d\": [{\"line\": {\"colorbar\": {\"outlinewidth\": 0, \"ticks\": \"\"}}, \"marker\": {\"colorbar\": {\"outlinewidth\": 0, \"ticks\": \"\"}}, \"type\": \"scatter3d\"}], \"scattercarpet\": [{\"marker\": {\"colorbar\": {\"outlinewidth\": 0, \"ticks\": \"\"}}, \"type\": \"scattercarpet\"}], \"scattergeo\": [{\"marker\": {\"colorbar\": {\"outlinewidth\": 0, \"ticks\": \"\"}}, \"type\": \"scattergeo\"}], \"scattergl\": [{\"marker\": {\"colorbar\": {\"outlinewidth\": 0, \"ticks\": \"\"}}, \"type\": \"scattergl\"}], \"scattermapbox\": [{\"marker\": {\"colorbar\": {\"outlinewidth\": 0, \"ticks\": \"\"}}, \"type\": \"scattermapbox\"}], \"scatterpolar\": [{\"marker\": {\"colorbar\": {\"outlinewidth\": 0, \"ticks\": \"\"}}, \"type\": \"scatterpolar\"}], \"scatterpolargl\": [{\"marker\": {\"colorbar\": {\"outlinewidth\": 0, \"ticks\": \"\"}}, \"type\": \"scatterpolargl\"}], \"scatterternary\": [{\"marker\": {\"colorbar\": {\"outlinewidth\": 0, \"ticks\": \"\"}}, \"type\": \"scatterternary\"}], \"surface\": [{\"colorbar\": {\"outlinewidth\": 0, \"ticks\": \"\"}, \"colorscale\": [[0.0, \"#0d0887\"], [0.1111111111111111, \"#46039f\"], [0.2222222222222222, \"#7201a8\"], [0.3333333333333333, \"#9c179e\"], [0.4444444444444444, \"#bd3786\"], [0.5555555555555556, \"#d8576b\"], [0.6666666666666666, \"#ed7953\"], [0.7777777777777778, \"#fb9f3a\"], [0.8888888888888888, \"#fdca26\"], [1.0, \"#f0f921\"]], \"type\": \"surface\"}], \"table\": [{\"cells\": {\"fill\": {\"color\": \"#EBF0F8\"}, \"line\": {\"color\": \"white\"}}, \"header\": {\"fill\": {\"color\": \"#C8D4E3\"}, \"line\": {\"color\": \"white\"}}, \"type\": \"table\"}]}, \"layout\": {\"annotationdefaults\": {\"arrowcolor\": \"#2a3f5f\", \"arrowhead\": 0, \"arrowwidth\": 1}, \"coloraxis\": {\"colorbar\": {\"outlinewidth\": 0, \"ticks\": \"\"}}, \"colorscale\": {\"diverging\": [[0, \"#8e0152\"], [0.1, \"#c51b7d\"], [0.2, \"#de77ae\"], [0.3, \"#f1b6da\"], [0.4, \"#fde0ef\"], [0.5, \"#f7f7f7\"], [0.6, \"#e6f5d0\"], [0.7, \"#b8e186\"], [0.8, \"#7fbc41\"], [0.9, \"#4d9221\"], [1, \"#276419\"]], \"sequential\": [[0.0, \"#0d0887\"], [0.1111111111111111, \"#46039f\"], [0.2222222222222222, \"#7201a8\"], [0.3333333333333333, \"#9c179e\"], [0.4444444444444444, \"#bd3786\"], [0.5555555555555556, \"#d8576b\"], [0.6666666666666666, \"#ed7953\"], [0.7777777777777778, \"#fb9f3a\"], [0.8888888888888888, \"#fdca26\"], [1.0, \"#f0f921\"]], \"sequentialminus\": [[0.0, \"#0d0887\"], [0.1111111111111111, \"#46039f\"], [0.2222222222222222, \"#7201a8\"], [0.3333333333333333, \"#9c179e\"], [0.4444444444444444, \"#bd3786\"], [0.5555555555555556, \"#d8576b\"], [0.6666666666666666, \"#ed7953\"], [0.7777777777777778, \"#fb9f3a\"], [0.8888888888888888, \"#fdca26\"], [1.0, \"#f0f921\"]]}, \"colorway\": [\"#636efa\", \"#EF553B\", \"#00cc96\", \"#ab63fa\", \"#FFA15A\", \"#19d3f3\", \"#FF6692\", \"#B6E880\", \"#FF97FF\", \"#FECB52\"], \"font\": {\"color\": \"#2a3f5f\"}, \"geo\": {\"bgcolor\": \"white\", \"lakecolor\": \"white\", \"landcolor\": \"#E5ECF6\", \"showlakes\": true, \"showland\": true, \"subunitcolor\": \"white\"}, \"hoverlabel\": {\"align\": \"left\"}, \"hovermode\": \"closest\", \"mapbox\": {\"style\": \"light\"}, \"paper_bgcolor\": \"white\", \"plot_bgcolor\": \"#E5ECF6\", \"polar\": {\"angularaxis\": {\"gridcolor\": \"white\", \"linecolor\": \"white\", \"ticks\": \"\"}, \"bgcolor\": \"#E5ECF6\", \"radialaxis\": {\"gridcolor\": \"white\", \"linecolor\": \"white\", \"ticks\": \"\"}}, \"scene\": {\"xaxis\": {\"backgroundcolor\": \"#E5ECF6\", \"gridcolor\": \"white\", \"gridwidth\": 2, \"linecolor\": \"white\", \"showbackground\": true, \"ticks\": \"\", \"zerolinecolor\": \"white\"}, \"yaxis\": {\"backgroundcolor\": \"#E5ECF6\", \"gridcolor\": \"white\", \"gridwidth\": 2, \"linecolor\": \"white\", \"showbackground\": true, \"ticks\": \"\", \"zerolinecolor\": \"white\"}, \"zaxis\": {\"backgroundcolor\": \"#E5ECF6\", \"gridcolor\": \"white\", \"gridwidth\": 2, \"linecolor\": \"white\", \"showbackground\": true, \"ticks\": \"\", \"zerolinecolor\": \"white\"}}, \"shapedefaults\": {\"line\": {\"color\": \"#2a3f5f\"}}, \"ternary\": {\"aaxis\": {\"gridcolor\": \"white\", \"linecolor\": \"white\", \"ticks\": \"\"}, \"baxis\": {\"gridcolor\": \"white\", \"linecolor\": \"white\", \"ticks\": \"\"}, \"bgcolor\": \"#E5ECF6\", \"caxis\": {\"gridcolor\": \"white\", \"linecolor\": \"white\", \"ticks\": \"\"}}, \"title\": {\"x\": 0.05}, \"xaxis\": {\"automargin\": true, \"gridcolor\": \"white\", \"linecolor\": \"white\", \"ticks\": \"\", \"title\": {\"standoff\": 15}, \"zerolinecolor\": \"white\", \"zerolinewidth\": 2}, \"yaxis\": {\"automargin\": true, \"gridcolor\": \"white\", \"linecolor\": \"white\", \"ticks\": \"\", \"title\": {\"standoff\": 15}, \"zerolinecolor\": \"white\", \"zerolinewidth\": 2}}}},\n",
              "                        {\"responsive\": true}\n",
              "                    ).then(function(){\n",
              "                            \n",
              "var gd = document.getElementById('f56469c4-11ee-43da-8e77-7aefdd136fcf');\n",
              "var x = new MutationObserver(function (mutations, observer) {{\n",
              "        var display = window.getComputedStyle(gd).display;\n",
              "        if (!display || display === 'none') {{\n",
              "            console.log([gd, 'removed!']);\n",
              "            Plotly.purge(gd);\n",
              "            observer.disconnect();\n",
              "        }}\n",
              "}});\n",
              "\n",
              "// Listen for the removal of the full notebook cells\n",
              "var notebookContainer = gd.closest('#notebook-container');\n",
              "if (notebookContainer) {{\n",
              "    x.observe(notebookContainer, {childList: true});\n",
              "}}\n",
              "\n",
              "// Listen for the clearing of the current output cell\n",
              "var outputEl = gd.closest('.output');\n",
              "if (outputEl) {{\n",
              "    x.observe(outputEl, {childList: true});\n",
              "}}\n",
              "\n",
              "                        })\n",
              "                };\n",
              "                \n",
              "            </script>\n",
              "        </div>\n",
              "</body>\n",
              "</html>"
            ]
          },
          "metadata": {
            "tags": []
          }
        }
      ]
    },
    {
      "cell_type": "markdown",
      "metadata": {
        "id": "jGCdY_XPh9vg",
        "colab_type": "text"
      },
      "source": [
        "It's important to say that **the conclusions that I had along this data analysis doesn't reflect the reality necessarily** and should not be used for other thing otherwise in order to learn more about the language. \n",
        "\n",
        "This was my first notebook in kaggle, I'm begginer in python language and Data Science so I hope this notebook help others beginners too. \n",
        "\n",
        "I will be so thankful for all the coments, critics etc...\n",
        "\n",
        "*Bye!*\n",
        "\n",
        "---\n"
      ]
    },
    {
      "cell_type": "code",
      "metadata": {
        "id": "Hi3lwm0DjQaw",
        "colab_type": "code",
        "colab": {}
      },
      "source": [
        ""
      ],
      "execution_count": null,
      "outputs": []
    }
  ]
}