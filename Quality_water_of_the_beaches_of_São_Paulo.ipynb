{
  "nbformat": 4,
  "nbformat_minor": 0,
  "metadata": {
    "colab": {
      "name": "Quality water of the beaches of São Paulo",
      "provenance": [],
      "collapsed_sections": [
        "wX1fYjoVAPq0"
      ],
      "toc_visible": true,
      "authorship_tag": "ABX9TyPMz6Bgxkx9pOSzaqGzrhem",
      "include_colab_link": true
    },
    "kernelspec": {
      "name": "python3",
      "display_name": "Python 3"
    }
  },
  "cells": [
    {
      "cell_type": "markdown",
      "metadata": {
        "id": "view-in-github",
        "colab_type": "text"
      },
      "source": [
        "<a href=\"https://colab.research.google.com/github/marcosmvgs/Water-quality-on-the-beaches-of-S-o-Paulo/blob/master/Quality_water_of_the_beaches_of_S%C3%A3o_Paulo.ipynb\" target=\"_parent\"><img src=\"https://colab.research.google.com/assets/colab-badge.svg\" alt=\"Open In Colab\"/></a>"
      ]
    },
    {
      "cell_type": "markdown",
      "metadata": {
        "id": "NeWnu98hwMoW",
        "colab_type": "text"
      },
      "source": [
        "# Water quality on the beachs  of the coast of São Paulo \n",
        "\n",
        "*Qualidade da Água nas praias do litoral do Estado de São Paulo*\n",
        "<center><img alt=\"beach\" width=\"90%\" src=\"https://raw.githubusercontent.com/marcosmvgs/Water-quality-on-the-beaches-of-S-o-Paulo/master/pngtree-yellow-beach-cartoon-ocean-taobao-travel-background-image_122125.jpg?token=AQNY3CALCGXFKL5ZZX74YQS7JGXO2\"/></center>\n",
        "\n",
        "**Context**\n",
        "\n",
        "One criteria that can be used to measure the water quality of the beaches is the density of Enterococcus, which indicates the fecal pollution in water. High values of the density of this bacteria indicates that the water quality is compromised and it represents risks to the bathers health. The measurements are performed weekly in several beaches in the state of São Paulo and they are used to classify the beaches as 'Proper' or 'Improper' for bathing.\n",
        "Content\n",
        "\n",
        "**About the Data**\n",
        "\n",
        "This data represents over 68k measurements of Enterococcus taken weekly between 2012 and 2020, from 16 cities and 168 beaches/collection points in the São Paulo state.\n",
        "\n",
        "The original source of the data was provided by [CETESB.!](https://cetesb.sp.gov.br/)\n",
        "\n",
        "In order to represent the statistics in a map i decided to include the coordinates of each beach in the Data as it will be seen along the notebook.\n",
        "\n",
        "**Goals** \n",
        "\n",
        "1. Check ammount of *Enterococcus* along the years and analyze if it has improved or not;\n",
        "2. Check if the vacations or holidays have some relation in the quality of the water;\n",
        "3. Plot on a map the beaches and the ammount of Enterococcus colected in each of them. \n",
        "\n",
        "\n",
        "\n"
      ]
    },
    {
      "cell_type": "markdown",
      "metadata": {
        "id": "T8ybiAmV8BHA",
        "colab_type": "text"
      },
      "source": [
        "Importing libraries\n",
        "1. Pandas\n",
        "2. Plotly.express "
      ]
    },
    {
      "cell_type": "code",
      "metadata": {
        "id": "NqnEohIhHVS5",
        "colab_type": "code",
        "colab": {}
      },
      "source": [
        "import pandas as pd\n",
        "import plotly.express as px\n"
      ],
      "execution_count": 29,
      "outputs": []
    },
    {
      "cell_type": "markdown",
      "metadata": {
        "id": "bXaVUSb98ceF",
        "colab_type": "text"
      },
      "source": [
        "Reading de Data"
      ]
    },
    {
      "cell_type": "code",
      "metadata": {
        "id": "j39aJjTgJq00",
        "colab_type": "code",
        "colab": {
          "base_uri": "https://localhost:8080/",
          "height": 206
        },
        "outputId": "009ccd0b-b231-4a8f-da5b-678e8c39281f"
      },
      "source": [
        "df = pd.read_csv('/content/sp_beaches.csv', parse_dates=['Date'])\n",
        "df.head()"
      ],
      "execution_count": 16,
      "outputs": [
        {
          "output_type": "execute_result",
          "data": {
            "text/html": [
              "<div>\n",
              "<style scoped>\n",
              "    .dataframe tbody tr th:only-of-type {\n",
              "        vertical-align: middle;\n",
              "    }\n",
              "\n",
              "    .dataframe tbody tr th {\n",
              "        vertical-align: top;\n",
              "    }\n",
              "\n",
              "    .dataframe thead th {\n",
              "        text-align: right;\n",
              "    }\n",
              "</style>\n",
              "<table border=\"1\" class=\"dataframe\">\n",
              "  <thead>\n",
              "    <tr style=\"text-align: right;\">\n",
              "      <th></th>\n",
              "      <th>City</th>\n",
              "      <th>Beach</th>\n",
              "      <th>Date</th>\n",
              "      <th>Enterococcus</th>\n",
              "    </tr>\n",
              "  </thead>\n",
              "  <tbody>\n",
              "    <tr>\n",
              "      <th>0</th>\n",
              "      <td>BERTIOGA</td>\n",
              "      <td>BORACÉIA - COL. MARISTA</td>\n",
              "      <td>2012-01-03</td>\n",
              "      <td>8</td>\n",
              "    </tr>\n",
              "    <tr>\n",
              "      <th>1</th>\n",
              "      <td>BERTIOGA</td>\n",
              "      <td>BORACÉIA - COL. MARISTA</td>\n",
              "      <td>2012-01-08</td>\n",
              "      <td>22</td>\n",
              "    </tr>\n",
              "    <tr>\n",
              "      <th>2</th>\n",
              "      <td>BERTIOGA</td>\n",
              "      <td>BORACÉIA - COL. MARISTA</td>\n",
              "      <td>2012-01-15</td>\n",
              "      <td>17</td>\n",
              "    </tr>\n",
              "    <tr>\n",
              "      <th>3</th>\n",
              "      <td>BERTIOGA</td>\n",
              "      <td>BORACÉIA - COL. MARISTA</td>\n",
              "      <td>2012-01-22</td>\n",
              "      <td>8</td>\n",
              "    </tr>\n",
              "    <tr>\n",
              "      <th>4</th>\n",
              "      <td>BERTIOGA</td>\n",
              "      <td>BORACÉIA - COL. MARISTA</td>\n",
              "      <td>2012-01-29</td>\n",
              "      <td>2</td>\n",
              "    </tr>\n",
              "  </tbody>\n",
              "</table>\n",
              "</div>"
            ],
            "text/plain": [
              "       City                    Beach       Date  Enterococcus\n",
              "0  BERTIOGA  BORACÉIA - COL. MARISTA 2012-01-03             8\n",
              "1  BERTIOGA  BORACÉIA - COL. MARISTA 2012-01-08            22\n",
              "2  BERTIOGA  BORACÉIA - COL. MARISTA 2012-01-15            17\n",
              "3  BERTIOGA  BORACÉIA - COL. MARISTA 2012-01-22             8\n",
              "4  BERTIOGA  BORACÉIA - COL. MARISTA 2012-01-29             2"
            ]
          },
          "metadata": {
            "tags": []
          },
          "execution_count": 16
        }
      ]
    },
    {
      "cell_type": "markdown",
      "metadata": {
        "id": "iN3Dc-FL_47S",
        "colab_type": "text"
      },
      "source": [
        "Checking the information about the Data"
      ]
    },
    {
      "cell_type": "code",
      "metadata": {
        "id": "krh05to9-hQ6",
        "colab_type": "code",
        "colab": {
          "base_uri": "https://localhost:8080/",
          "height": 220
        },
        "outputId": "add4bb01-0dac-41db-b2a3-e40785b9a3b0"
      },
      "source": [
        "df.info()"
      ],
      "execution_count": 17,
      "outputs": [
        {
          "output_type": "stream",
          "text": [
            "<class 'pandas.core.frame.DataFrame'>\n",
            "RangeIndex: 68481 entries, 0 to 68480\n",
            "Data columns (total 4 columns):\n",
            " #   Column        Non-Null Count  Dtype         \n",
            "---  ------        --------------  -----         \n",
            " 0   City          68481 non-null  object        \n",
            " 1   Beach         68481 non-null  object        \n",
            " 2   Date          68481 non-null  datetime64[ns]\n",
            " 3   Enterococcus  68481 non-null  int64         \n",
            "dtypes: datetime64[ns](1), int64(1), object(2)\n",
            "memory usage: 2.1+ MB\n"
          ],
          "name": "stdout"
        }
      ]
    },
    {
      "cell_type": "markdown",
      "metadata": {
        "id": "OFrXOwZNAA49",
        "colab_type": "text"
      },
      "source": [
        "We can see above that:\n",
        "* There's no null's\n",
        "* All columns have the right Dtype, including Date column\n",
        "\n",
        "So our data is well organized"
      ]
    },
    {
      "cell_type": "markdown",
      "metadata": {
        "id": "wX1fYjoVAPq0",
        "colab_type": "text"
      },
      "source": [
        "## 1st Goal\n",
        "\n",
        "- [ ] Check ammount of *Enterococcus* along the years and analyze if it has improved or not\n",
        "\n",
        "First of all, let's check the last Date and the first Date in order to verify if we have measures of all year long.\n",
        "\n"
      ]
    },
    {
      "cell_type": "code",
      "metadata": {
        "id": "mVII-JH2GvZN",
        "colab_type": "code",
        "colab": {
          "base_uri": "https://localhost:8080/",
          "height": 35
        },
        "outputId": "385f9296-07aa-476a-dba5-54ba5245d7cf"
      },
      "source": [
        "df['Date'].min()"
      ],
      "execution_count": 18,
      "outputs": [
        {
          "output_type": "execute_result",
          "data": {
            "text/plain": [
              "Timestamp('2012-01-03 00:00:00')"
            ]
          },
          "metadata": {
            "tags": []
          },
          "execution_count": 18
        }
      ]
    },
    {
      "cell_type": "code",
      "metadata": {
        "id": "4t5zxnEiG5NL",
        "colab_type": "code",
        "colab": {
          "base_uri": "https://localhost:8080/",
          "height": 35
        },
        "outputId": "00f81ebb-dbcd-4916-c399-219db55f40f0"
      },
      "source": [
        "df['Date'].max()"
      ],
      "execution_count": 19,
      "outputs": [
        {
          "output_type": "execute_result",
          "data": {
            "text/plain": [
              "Timestamp('2020-03-15 00:00:00')"
            ]
          },
          "metadata": {
            "tags": []
          },
          "execution_count": 19
        }
      ]
    },
    {
      "cell_type": "markdown",
      "metadata": {
        "id": "T1KfnY8caLB_",
        "colab_type": "text"
      },
      "source": [
        "As we don't have data for all 2020 year. We will exclude this year of our data and will analyze from 2012 until 2019. We also will remove Columns `<City>` and `<'Beach'>` because they're not interesting for us now. "
      ]
    },
    {
      "cell_type": "code",
      "metadata": {
        "id": "GofUWCbiDp4U",
        "colab_type": "code",
        "colab": {
          "base_uri": "https://localhost:8080/",
          "height": 206
        },
        "outputId": "7239c465-6939-4486-9a35-ebbc35509047"
      },
      "source": [
        "years = df.loc[:, 'Date':'Enterococcus'] #Selecting Date and Enterococcus columns\n",
        "years.head()"
      ],
      "execution_count": 20,
      "outputs": [
        {
          "output_type": "execute_result",
          "data": {
            "text/html": [
              "<div>\n",
              "<style scoped>\n",
              "    .dataframe tbody tr th:only-of-type {\n",
              "        vertical-align: middle;\n",
              "    }\n",
              "\n",
              "    .dataframe tbody tr th {\n",
              "        vertical-align: top;\n",
              "    }\n",
              "\n",
              "    .dataframe thead th {\n",
              "        text-align: right;\n",
              "    }\n",
              "</style>\n",
              "<table border=\"1\" class=\"dataframe\">\n",
              "  <thead>\n",
              "    <tr style=\"text-align: right;\">\n",
              "      <th></th>\n",
              "      <th>Date</th>\n",
              "      <th>Enterococcus</th>\n",
              "    </tr>\n",
              "  </thead>\n",
              "  <tbody>\n",
              "    <tr>\n",
              "      <th>0</th>\n",
              "      <td>2012-01-03</td>\n",
              "      <td>8</td>\n",
              "    </tr>\n",
              "    <tr>\n",
              "      <th>1</th>\n",
              "      <td>2012-01-08</td>\n",
              "      <td>22</td>\n",
              "    </tr>\n",
              "    <tr>\n",
              "      <th>2</th>\n",
              "      <td>2012-01-15</td>\n",
              "      <td>17</td>\n",
              "    </tr>\n",
              "    <tr>\n",
              "      <th>3</th>\n",
              "      <td>2012-01-22</td>\n",
              "      <td>8</td>\n",
              "    </tr>\n",
              "    <tr>\n",
              "      <th>4</th>\n",
              "      <td>2012-01-29</td>\n",
              "      <td>2</td>\n",
              "    </tr>\n",
              "  </tbody>\n",
              "</table>\n",
              "</div>"
            ],
            "text/plain": [
              "        Date  Enterococcus\n",
              "0 2012-01-03             8\n",
              "1 2012-01-08            22\n",
              "2 2012-01-15            17\n",
              "3 2012-01-22             8\n",
              "4 2012-01-29             2"
            ]
          },
          "metadata": {
            "tags": []
          },
          "execution_count": 20
        }
      ]
    },
    {
      "cell_type": "markdown",
      "metadata": {
        "id": "ntI0Xpmwa_m9",
        "colab_type": "text"
      },
      "source": [
        "Once the days and months doesn't interest for us now it's necessary to group the data by year. In the following code I grouped the data by year showing the mean of Enterococcus in each year, transformed the data in Dataframe (it was a Series before) and reseted index. As follows:"
      ]
    },
    {
      "cell_type": "code",
      "metadata": {
        "id": "zfBa2vcuETeU",
        "colab_type": "code",
        "colab": {
          "base_uri": "https://localhost:8080/",
          "height": 332
        },
        "outputId": "e2fdc4e7-586b-47b7-a0bb-e09a59798760"
      },
      "source": [
        "years = years.groupby(df['Date'].dt.year)['Enterococcus'].mean().to_frame().reset_index() \n",
        "years"
      ],
      "execution_count": 21,
      "outputs": [
        {
          "output_type": "execute_result",
          "data": {
            "text/html": [
              "<div>\n",
              "<style scoped>\n",
              "    .dataframe tbody tr th:only-of-type {\n",
              "        vertical-align: middle;\n",
              "    }\n",
              "\n",
              "    .dataframe tbody tr th {\n",
              "        vertical-align: top;\n",
              "    }\n",
              "\n",
              "    .dataframe thead th {\n",
              "        text-align: right;\n",
              "    }\n",
              "</style>\n",
              "<table border=\"1\" class=\"dataframe\">\n",
              "  <thead>\n",
              "    <tr style=\"text-align: right;\">\n",
              "      <th></th>\n",
              "      <th>Date</th>\n",
              "      <th>Enterococcus</th>\n",
              "    </tr>\n",
              "  </thead>\n",
              "  <tbody>\n",
              "    <tr>\n",
              "      <th>0</th>\n",
              "      <td>2012</td>\n",
              "      <td>62.251473</td>\n",
              "    </tr>\n",
              "    <tr>\n",
              "      <th>1</th>\n",
              "      <td>2013</td>\n",
              "      <td>78.583716</td>\n",
              "    </tr>\n",
              "    <tr>\n",
              "      <th>2</th>\n",
              "      <td>2014</td>\n",
              "      <td>63.626992</td>\n",
              "    </tr>\n",
              "    <tr>\n",
              "      <th>3</th>\n",
              "      <td>2015</td>\n",
              "      <td>52.185566</td>\n",
              "    </tr>\n",
              "    <tr>\n",
              "      <th>4</th>\n",
              "      <td>2016</td>\n",
              "      <td>45.088246</td>\n",
              "    </tr>\n",
              "    <tr>\n",
              "      <th>5</th>\n",
              "      <td>2017</td>\n",
              "      <td>47.187976</td>\n",
              "    </tr>\n",
              "    <tr>\n",
              "      <th>6</th>\n",
              "      <td>2018</td>\n",
              "      <td>61.265351</td>\n",
              "    </tr>\n",
              "    <tr>\n",
              "      <th>7</th>\n",
              "      <td>2019</td>\n",
              "      <td>60.802781</td>\n",
              "    </tr>\n",
              "    <tr>\n",
              "      <th>8</th>\n",
              "      <td>2020</td>\n",
              "      <td>84.797149</td>\n",
              "    </tr>\n",
              "  </tbody>\n",
              "</table>\n",
              "</div>"
            ],
            "text/plain": [
              "   Date  Enterococcus\n",
              "0  2012     62.251473\n",
              "1  2013     78.583716\n",
              "2  2014     63.626992\n",
              "3  2015     52.185566\n",
              "4  2016     45.088246\n",
              "5  2017     47.187976\n",
              "6  2018     61.265351\n",
              "7  2019     60.802781\n",
              "8  2020     84.797149"
            ]
          },
          "metadata": {
            "tags": []
          },
          "execution_count": 21
        }
      ]
    },
    {
      "cell_type": "markdown",
      "metadata": {
        "id": "-4D1MheTbvqm",
        "colab_type": "text"
      },
      "source": [
        "Now it's easy to select just the rows that are interesting for the analysis. "
      ]
    },
    {
      "cell_type": "code",
      "metadata": {
        "id": "Lv4YjBcEXigD",
        "colab_type": "code",
        "colab": {
          "base_uri": "https://localhost:8080/",
          "height": 300
        },
        "outputId": "7a82176d-13cf-4fca-aeba-5b4c52d7b53c"
      },
      "source": [
        "years = years.iloc[0:8, 0:3] #Selecting lines 0 to 7 in order to exclude 2020\n",
        "years"
      ],
      "execution_count": 22,
      "outputs": [
        {
          "output_type": "execute_result",
          "data": {
            "text/html": [
              "<div>\n",
              "<style scoped>\n",
              "    .dataframe tbody tr th:only-of-type {\n",
              "        vertical-align: middle;\n",
              "    }\n",
              "\n",
              "    .dataframe tbody tr th {\n",
              "        vertical-align: top;\n",
              "    }\n",
              "\n",
              "    .dataframe thead th {\n",
              "        text-align: right;\n",
              "    }\n",
              "</style>\n",
              "<table border=\"1\" class=\"dataframe\">\n",
              "  <thead>\n",
              "    <tr style=\"text-align: right;\">\n",
              "      <th></th>\n",
              "      <th>Date</th>\n",
              "      <th>Enterococcus</th>\n",
              "    </tr>\n",
              "  </thead>\n",
              "  <tbody>\n",
              "    <tr>\n",
              "      <th>0</th>\n",
              "      <td>2012</td>\n",
              "      <td>62.251473</td>\n",
              "    </tr>\n",
              "    <tr>\n",
              "      <th>1</th>\n",
              "      <td>2013</td>\n",
              "      <td>78.583716</td>\n",
              "    </tr>\n",
              "    <tr>\n",
              "      <th>2</th>\n",
              "      <td>2014</td>\n",
              "      <td>63.626992</td>\n",
              "    </tr>\n",
              "    <tr>\n",
              "      <th>3</th>\n",
              "      <td>2015</td>\n",
              "      <td>52.185566</td>\n",
              "    </tr>\n",
              "    <tr>\n",
              "      <th>4</th>\n",
              "      <td>2016</td>\n",
              "      <td>45.088246</td>\n",
              "    </tr>\n",
              "    <tr>\n",
              "      <th>5</th>\n",
              "      <td>2017</td>\n",
              "      <td>47.187976</td>\n",
              "    </tr>\n",
              "    <tr>\n",
              "      <th>6</th>\n",
              "      <td>2018</td>\n",
              "      <td>61.265351</td>\n",
              "    </tr>\n",
              "    <tr>\n",
              "      <th>7</th>\n",
              "      <td>2019</td>\n",
              "      <td>60.802781</td>\n",
              "    </tr>\n",
              "  </tbody>\n",
              "</table>\n",
              "</div>"
            ],
            "text/plain": [
              "   Date  Enterococcus\n",
              "0  2012     62.251473\n",
              "1  2013     78.583716\n",
              "2  2014     63.626992\n",
              "3  2015     52.185566\n",
              "4  2016     45.088246\n",
              "5  2017     47.187976\n",
              "6  2018     61.265351\n",
              "7  2019     60.802781"
            ]
          },
          "metadata": {
            "tags": []
          },
          "execution_count": 22
        }
      ]
    },
    {
      "cell_type": "markdown",
      "metadata": {
        "id": "f4aI2oSVb9Pi",
        "colab_type": "text"
      },
      "source": [
        "**Ploting the data**\n",
        "\n",
        "Now with our data organized it's easy to plot the graph"
      ]
    },
    {
      "cell_type": "code",
      "metadata": {
        "id": "yNdaAvQuX7hb",
        "colab_type": "code",
        "colab": {}
      },
      "source": [
        "fig1 = px.bar(years, x='Date', y='Enterococcus', color='Enterococcus',\n",
        "              title='Year vs Enterococcus mean per year', color_continuous_scale= px.colors.sequential.Viridis_r)\n",
        "print(fig1.show())"
      ],
      "execution_count": null,
      "outputs": []
    },
    {
      "cell_type": "markdown",
      "metadata": {
        "id": "0GwjOjZXWZ8h",
        "colab_type": "text"
      },
      "source": [
        "<img alt=\"fig1\" width=\"80%\" src=\"https://raw.githubusercontent.com/marcosmvgs/Water-quality-on-the-beaches-of-S-o-Paulo/master/newplot.png\">"
      ]
    },
    {
      "cell_type": "markdown",
      "metadata": {
        "id": "4TGq8uE3hR52",
        "colab_type": "text"
      },
      "source": [
        "*According with CETESB criteria for sea water: the Enterococcus density greater than 100 UFC/100ml, in two or more samples of a set of five weeks or values greater than 400UFC/100ml in the last sample,  characterize the impropriety of beach for primary contact recreation.*\n",
        "\n",
        "---\n",
        "**1st Goal Reached**\n",
        "\n",
        "- [x] **Check ammount of *Enterococcus* along the years and analyze if it has improved or not**\n",
        "\n",
        "> Analyzing the graph above we can see that along the years the Enterococcus mean is about 45 UFC/100ml and 78 UFC/100ml. From 2013 until 2016 the amount of Enterococcus was decreasing every year, but in 2018 and 2019 increased.\n",
        "\n",
        "> The Enterococcus mean was about the same along the 8 years of analysis, so there were no improvements that worked and there was no major worsening either.  "
      ]
    },
    {
      "cell_type": "markdown",
      "metadata": {
        "id": "cDo26_55ryR_",
        "colab_type": "text"
      },
      "source": [
        "## 2nd Goal\n",
        "\n",
        "- [ ] Check if the vacations or holidays have some relation with the the quality of the water.\n",
        "\n",
        "Vacations in Brazil are usually in the months of **June - 06**, **July - 07**, **December - 12**, **January - 01** and **February - 02**\n",
        "\n"
      ]
    },
    {
      "cell_type": "markdown",
      "metadata": {
        "id": "InOpzAK3uPiv",
        "colab_type": "text"
      },
      "source": [
        "I will analyze the data by month, so it's necessary to get the data together by month"
      ]
    },
    {
      "cell_type": "code",
      "metadata": {
        "id": "Gkxk2EP0uOTO",
        "colab_type": "code",
        "colab": {
          "base_uri": "https://localhost:8080/",
          "height": 426
        },
        "outputId": "95c4a3ae-04c8-46a7-c6f5-e4ebbb553c3f"
      },
      "source": [
        "\n",
        "months = df.groupby(df['Date'].dt.month)['Enterococcus'].mean().to_frame().reset_index() \n",
        "months\n"
      ],
      "execution_count": 24,
      "outputs": [
        {
          "output_type": "execute_result",
          "data": {
            "text/html": [
              "<div>\n",
              "<style scoped>\n",
              "    .dataframe tbody tr th:only-of-type {\n",
              "        vertical-align: middle;\n",
              "    }\n",
              "\n",
              "    .dataframe tbody tr th {\n",
              "        vertical-align: top;\n",
              "    }\n",
              "\n",
              "    .dataframe thead th {\n",
              "        text-align: right;\n",
              "    }\n",
              "</style>\n",
              "<table border=\"1\" class=\"dataframe\">\n",
              "  <thead>\n",
              "    <tr style=\"text-align: right;\">\n",
              "      <th></th>\n",
              "      <th>Date</th>\n",
              "      <th>Enterococcus</th>\n",
              "    </tr>\n",
              "  </thead>\n",
              "  <tbody>\n",
              "    <tr>\n",
              "      <th>0</th>\n",
              "      <td>1</td>\n",
              "      <td>87.823974</td>\n",
              "    </tr>\n",
              "    <tr>\n",
              "      <th>1</th>\n",
              "      <td>2</td>\n",
              "      <td>73.097324</td>\n",
              "    </tr>\n",
              "    <tr>\n",
              "      <th>2</th>\n",
              "      <td>3</td>\n",
              "      <td>70.216661</td>\n",
              "    </tr>\n",
              "    <tr>\n",
              "      <th>3</th>\n",
              "      <td>4</td>\n",
              "      <td>53.766667</td>\n",
              "    </tr>\n",
              "    <tr>\n",
              "      <th>4</th>\n",
              "      <td>5</td>\n",
              "      <td>46.969393</td>\n",
              "    </tr>\n",
              "    <tr>\n",
              "      <th>5</th>\n",
              "      <td>6</td>\n",
              "      <td>54.194493</td>\n",
              "    </tr>\n",
              "    <tr>\n",
              "      <th>6</th>\n",
              "      <td>7</td>\n",
              "      <td>47.642638</td>\n",
              "    </tr>\n",
              "    <tr>\n",
              "      <th>7</th>\n",
              "      <td>8</td>\n",
              "      <td>50.503696</td>\n",
              "    </tr>\n",
              "    <tr>\n",
              "      <th>8</th>\n",
              "      <td>9</td>\n",
              "      <td>49.778595</td>\n",
              "    </tr>\n",
              "    <tr>\n",
              "      <th>9</th>\n",
              "      <td>10</td>\n",
              "      <td>47.975452</td>\n",
              "    </tr>\n",
              "    <tr>\n",
              "      <th>10</th>\n",
              "      <td>11</td>\n",
              "      <td>59.584970</td>\n",
              "    </tr>\n",
              "    <tr>\n",
              "      <th>11</th>\n",
              "      <td>12</td>\n",
              "      <td>62.943396</td>\n",
              "    </tr>\n",
              "  </tbody>\n",
              "</table>\n",
              "</div>"
            ],
            "text/plain": [
              "    Date  Enterococcus\n",
              "0      1     87.823974\n",
              "1      2     73.097324\n",
              "2      3     70.216661\n",
              "3      4     53.766667\n",
              "4      5     46.969393\n",
              "5      6     54.194493\n",
              "6      7     47.642638\n",
              "7      8     50.503696\n",
              "8      9     49.778595\n",
              "9     10     47.975452\n",
              "10    11     59.584970\n",
              "11    12     62.943396"
            ]
          },
          "metadata": {
            "tags": []
          },
          "execution_count": 24
        }
      ]
    },
    {
      "cell_type": "markdown",
      "metadata": {
        "id": "640j2riI5JnS",
        "colab_type": "text"
      },
      "source": [
        "Creating the graph required "
      ]
    },
    {
      "cell_type": "code",
      "metadata": {
        "id": "GEbq5FMHPRrT",
        "colab_type": "code",
        "colab": {}
      },
      "source": [
        "fig2 = px.bar(months, x = 'Date', y = 'Enterococcus', \n",
        "              title = 'Enterococcus mena per month', color= 'Enterococcus', \n",
        "              color_continuous_scale= px.colors.sequential.Viridis_r)\n",
        "fig2.show()"
      ],
      "execution_count": null,
      "outputs": []
    },
    {
      "cell_type": "markdown",
      "metadata": {
        "id": "t1QBQ10raZP2",
        "colab_type": "text"
      },
      "source": [
        "<img alt=\"fig1\" width=\"80%\" src=\"https://raw.githubusercontent.com/marcosmvgs/Water-quality-on-the-beaches-of-S-o-Paulo/master/fig2.png\">"
      ]
    },
    {
      "cell_type": "markdown",
      "metadata": {
        "id": "JK07PyHHWCXF",
        "colab_type": "text"
      },
      "source": [
        "**2nd Goal Reached**\n",
        "\n",
        "- [x] **Check if the vacations or holidays have some relation with the the quality of the water.**\n",
        "\n",
        "> Analyzing the graph above we can see that in the months from December to March, especially January the levels os Enterococcus is much higher than the others. This coincides with the most used months for vacation but also coincides with the most rainy months in the year. See the graph below acquired at this [link!](https://pt.climate-data.org/america-do-sul/brasil/sao-paulo/sao-paulo-655/#climate-table) showing the months vs precipitation.\n",
        "\n",
        "\n",
        "<center><img src=\"https://images.climate-data.org/location/655/climate-graph.png\" width=\"600\" height=\"400\" /></center>"
      ]
    },
    {
      "cell_type": "markdown",
      "metadata": {
        "id": "WA9SZ_QA4Igc",
        "colab_type": "text"
      },
      "source": [
        "We can see that precipitaion is higher basically at the same months that we have high values of Enterococcus, it show us that the amount of Enterococcus at the beaches increases due a lot of reasons. Vacation concentrate more people at the beaches, and the problem of the rain is that clandestine sewage connections galleries and rivers and streams are guided to the sea taking with them all the trash making the beach become contamined and inaproprietaded for bath \n",
        "\n"
      ]
    },
    {
      "cell_type": "markdown",
      "metadata": {
        "id": "r4_dhWkw4SFD",
        "colab_type": "text"
      },
      "source": [
        "## 3th Goal\n",
        "\n",
        "- [ ] Plot on a map the beaches and the ammount of Enterococcus colected in each of them. \n",
        "\n",
        "Since we need the coordinates of each beach to create a map, I took them in google maps and create a new dataframe with two aditional columns, lat and long, in xlsx format."
      ]
    },
    {
      "cell_type": "code",
      "metadata": {
        "id": "U_UqETce4PpT",
        "colab_type": "code",
        "colab": {
          "base_uri": "https://localhost:8080/",
          "height": 206
        },
        "outputId": "1386a456-c411-4a6d-ed6b-32eaa1f23996"
      },
      "source": [
        "latlon = pd.read_excel('/content/sp_beaches_latlon(1).xlsx', parse_dates=True)\n",
        "latlon.head()"
      ],
      "execution_count": 26,
      "outputs": [
        {
          "output_type": "execute_result",
          "data": {
            "text/html": [
              "<div>\n",
              "<style scoped>\n",
              "    .dataframe tbody tr th:only-of-type {\n",
              "        vertical-align: middle;\n",
              "    }\n",
              "\n",
              "    .dataframe tbody tr th {\n",
              "        vertical-align: top;\n",
              "    }\n",
              "\n",
              "    .dataframe thead th {\n",
              "        text-align: right;\n",
              "    }\n",
              "</style>\n",
              "<table border=\"1\" class=\"dataframe\">\n",
              "  <thead>\n",
              "    <tr style=\"text-align: right;\">\n",
              "      <th></th>\n",
              "      <th>Unnamed: 0</th>\n",
              "      <th>Beach</th>\n",
              "      <th>City</th>\n",
              "      <th>Enterococcus</th>\n",
              "      <th>lat</th>\n",
              "      <th>lon</th>\n",
              "    </tr>\n",
              "  </thead>\n",
              "  <tbody>\n",
              "    <tr>\n",
              "      <th>0</th>\n",
              "      <td>0</td>\n",
              "      <td>AGENOR DE CAMPOS</td>\n",
              "      <td>MONGAGUÁ</td>\n",
              "      <td>81.766110</td>\n",
              "      <td>-24.133046</td>\n",
              "      <td>-46.691516</td>\n",
              "    </tr>\n",
              "    <tr>\n",
              "      <th>1</th>\n",
              "      <td>1</td>\n",
              "      <td>APARECIDA</td>\n",
              "      <td>SANTOS</td>\n",
              "      <td>96.835322</td>\n",
              "      <td>-23.983527</td>\n",
              "      <td>-46.310940</td>\n",
              "    </tr>\n",
              "    <tr>\n",
              "      <th>2</th>\n",
              "      <td>2</td>\n",
              "      <td>ARMAÇÃO</td>\n",
              "      <td>ILHABELA</td>\n",
              "      <td>66.038186</td>\n",
              "      <td>-23.738485</td>\n",
              "      <td>-45.345435</td>\n",
              "    </tr>\n",
              "    <tr>\n",
              "      <th>3</th>\n",
              "      <td>3</td>\n",
              "      <td>ARRASTÃO</td>\n",
              "      <td>SÃO SEBASTIÃO</td>\n",
              "      <td>53.207637</td>\n",
              "      <td>-23.771381</td>\n",
              "      <td>-45.402686</td>\n",
              "    </tr>\n",
              "    <tr>\n",
              "      <th>4</th>\n",
              "      <td>4</td>\n",
              "      <td>ASTÚRIAS</td>\n",
              "      <td>GUARUJÁ</td>\n",
              "      <td>39.367542</td>\n",
              "      <td>-24.006466</td>\n",
              "      <td>-46.268172</td>\n",
              "    </tr>\n",
              "  </tbody>\n",
              "</table>\n",
              "</div>"
            ],
            "text/plain": [
              "   Unnamed: 0             Beach  ...        lat        lon\n",
              "0           0  AGENOR DE CAMPOS  ... -24.133046 -46.691516\n",
              "1           1         APARECIDA  ... -23.983527 -46.310940\n",
              "2           2           ARMAÇÃO  ... -23.738485 -45.345435\n",
              "3           3          ARRASTÃO  ... -23.771381 -45.402686\n",
              "4           4          ASTÚRIAS  ... -24.006466 -46.268172\n",
              "\n",
              "[5 rows x 6 columns]"
            ]
          },
          "metadata": {
            "tags": []
          },
          "execution_count": 26
        }
      ]
    },
    {
      "cell_type": "markdown",
      "metadata": {
        "id": "Ch33P1jOhb6O",
        "colab_type": "text"
      },
      "source": [
        "Ploting a Scatter map.\n",
        "\n",
        "Below is ploted a mapbox graph so we can see that the bigger and darker the circle the more polluted the water is."
      ]
    },
    {
      "cell_type": "code",
      "metadata": {
        "id": "AFlRetqHvOA_",
        "colab_type": "code",
        "colab": {}
      },
      "source": [
        "\n",
        "fig3 = px.scatter_mapbox(latlon, lat=\"lat\", lon=\"lon\", hover_name=\"City\", size='Enterococcus', color='Enterococcus', size_max= 50,\n",
        "                        color_continuous_scale= px.colors.sequential.Inferno_r, zoom=8, height=500)\n",
        "fig3.update_layout(mapbox_style=\"open-street-map\")\n",
        "fig3.update_layout(margin={\"r\":10,\"t\":10,\"l\":0,\"b\":0})\n",
        "fig3.show()"
      ],
      "execution_count": null,
      "outputs": []
    },
    {
      "cell_type": "markdown",
      "metadata": {
        "id": "d4BtxANObGAy",
        "colab_type": "text"
      },
      "source": [
        "<img alt=\"fig1\" width=\"80%\" src=\"https://raw.githubusercontent.com/marcosmvgs/Water-quality-on-the-beaches-of-S-o-Paulo/master/fig3.png\">"
      ]
    },
    {
      "cell_type": "markdown",
      "metadata": {
        "id": "cJXsRr8vh3DU",
        "colab_type": "text"
      },
      "source": [
        "Just another type of graph"
      ]
    },
    {
      "cell_type": "code",
      "metadata": {
        "id": "v1GDnWCal95y",
        "colab_type": "code",
        "colab": {}
      },
      "source": [
        "fig4 = px.scatter_mapbox(latlon, lat=\"lat\", lon=\"lon\", hover_name=\"City\", size='Enterococcus', color='Enterococcus', size_max= 50,\n",
        "                        color_continuous_scale= px.colors.sequential.solar_r, zoom=8, height=500)\n",
        "fig4.update_layout(\n",
        "    mapbox_style=\"white-bg\",\n",
        "    mapbox_layers=[\n",
        "        {\n",
        "            \"below\": 'traces',\n",
        "            \"sourcetype\": \"raster\",\n",
        "            \"source\": [\n",
        "                \"https://basemap.nationalmap.gov/arcgis/rest/services/USGSImageryOnly/MapServer/tile/{z}/{y}/{x}\"\n",
        "            ]\n",
        "        }\n",
        "      ])\n",
        "fig4.update_layout(margin={\"r\":0,\"t\":0,\"l\":0,\"b\":0})\n",
        "fig4.show()"
      ],
      "execution_count": null,
      "outputs": []
    },
    {
      "cell_type": "markdown",
      "metadata": {
        "id": "pNwESRPHbRN4",
        "colab_type": "text"
      },
      "source": [
        "<img alt=\"fig1\" width=\"80%\" src=\"https://raw.githubusercontent.com/marcosmvgs/Water-quality-on-the-beaches-of-S-o-Paulo/master/fig4.png\">"
      ]
    },
    {
      "cell_type": "markdown",
      "metadata": {
        "id": "jGCdY_XPh9vg",
        "colab_type": "text"
      },
      "source": [
        "It's important to say that **the conclusions that I had along this data analysis doesn't reflect the reality necessarily** and should not be used for other thing otherwise in order to learn more about the language. \n",
        "\n",
        "This was my first notebook in kaggle, I'm begginer in python language and Data Science so I hope this notebook help others beginners too. \n",
        "\n",
        "I will be so thankful for all the coments, critics etc...\n",
        "\n",
        "*Bye!*\n",
        "\n",
        "---\n"
      ]
    },
    {
      "cell_type": "code",
      "metadata": {
        "id": "Hi3lwm0DjQaw",
        "colab_type": "code",
        "colab": {}
      },
      "source": [
        ""
      ],
      "execution_count": 28,
      "outputs": []
    }
  ]
}